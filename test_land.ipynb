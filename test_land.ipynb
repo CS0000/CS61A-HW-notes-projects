{
 "cells": [
  {
   "cell_type": "code",
   "execution_count": 14,
   "metadata": {},
   "outputs": [],
   "source": [
    "#### it's a draft notebook ####"
   ]
  },
  {
   "cell_type": "code",
   "execution_count": 12,
   "metadata": {},
   "outputs": [],
   "source": [
    "# environments for higher order function\n",
    "# https://www.youtube.com/watch?v=3Zi0kxmoMtA&list=PL6BsET-8jgYXhzd5ou1faNsWVoWBRUY8q&index=3\n",
    "def repeat(f,x):\n",
    "    # repeat f(x) until f(x) == x\n",
    "    print(f\"x = {x}\")\n",
    "    print(f\"assgin x to (x+5) // 3 until x = (x+5) // 3\")\n",
    "    print()\n",
    "    while f(x) !=x:\n",
    "        print(f\"(x+5) // 3 != x is True\")\n",
    "        print(f\"assgin x to ({x}+5) // 3\")\n",
    "        x = f(x)\n",
    "        print(f\"x = {x}\")\n",
    "    print(f\"(x+5) // 3 != x is False\")\n",
    "    print(f\"x = {x}\")\n",
    "    return x\n",
    "\n",
    "def g(y):\n",
    "    return (y+5) // 3"
   ]
  },
  {
   "cell_type": "code",
   "execution_count": 13,
   "metadata": {},
   "outputs": [
    {
     "name": "stdout",
     "output_type": "stream",
     "text": [
      "x = 5\n",
      "assgin x to (x+5) // 3 until x = (x+5) // 3\n",
      "\n",
      "(x+5) // 3 != x is True\n",
      "assgin x to (5+5) // 3\n",
      "x = 3\n",
      "(x+5) // 3 != x is True\n",
      "assgin x to (3+5) // 3\n",
      "x = 2\n",
      "(x+5) // 3 != x is False\n",
      "x = 2\n"
     ]
    }
   ],
   "source": [
    "result = repeat(g,5)"
   ]
  },
  {
   "cell_type": "code",
   "execution_count": 15,
   "metadata": {},
   "outputs": [],
   "source": [
    "# Nested definition\n",
    "# https://www.youtube.com/watch?v=qLZhkM45Jtc&list=PL6BsET-8jgYXhzd5ou1faNsWVoWBRUY8q&index=4\n",
    "def make_adder(n):\n",
    "    def adder(k):\n",
    "        return k+n\n",
    "    return adder"
   ]
  },
  {
   "cell_type": "code",
   "execution_count": 17,
   "metadata": {},
   "outputs": [
    {
     "data": {
      "text/plain": [
       "7"
      ]
     },
     "execution_count": 17,
     "metadata": {},
     "output_type": "execute_result"
    }
   ],
   "source": [
    "make_adder(3)(4) # make_adder(3) is a function, which will add its \"inner\" para with 4"
   ]
  },
  {
   "cell_type": "code",
   "execution_count": null,
   "metadata": {},
   "outputs": [],
   "source": [
    "# local names\n",
    "# https://www.youtube.com/watch?v=1Y4eemG0hzk&list=PL6BsET-8jgYXhzd5ou1faNsWVoWBRUY8q&index=5\n",
    "def f(x,y):\n",
    "    return g(x)\n",
    "\n",
    "def g(a):\n",
    "    return a + y  # y is not defined in g(a) environment,even though it's defined in f(x,y)\n",
    "# result = f(1,2) this will cause error\n",
    "\n",
    "\n",
    "def f(x,y):\n",
    "    def g(a):\n",
    "        return a+y # now g(a) is in the f(x,y) environment, f is g's parent\n",
    "        # it's a nested defined function\n",
    "    return g(x)\n",
    "# result = f(1,2)  this will be ok"
   ]
  },
  {
   "cell_type": "code",
   "execution_count": 18,
   "metadata": {},
   "outputs": [
    {
     "data": {
      "text/plain": [
       "3"
      ]
     },
     "execution_count": 18,
     "metadata": {},
     "output_type": "execute_result"
    }
   ],
   "source": [
    "def f(x,y):\n",
    "    def g(a):\n",
    "        return a+y\n",
    "    return g(x)\n",
    "f(1,2)"
   ]
  },
  {
   "cell_type": "code",
   "execution_count": 25,
   "metadata": {},
   "outputs": [],
   "source": [
    "# self-reference\n",
    "# https://www.youtube.com/watch?v=31EDjrN1x5k&list=PL6BsET-8jgYXhzd5ou1faNsWVoWBRUY8q&index=8\n",
    "def print_sums(x):\n",
    "    print(f\"x = {x}\")\n",
    "    # print_sums's para x is used to store the sum of all the passed arguements\n",
    "    print(f\"in print_sums({x})\")\n",
    "    def next_sum(y):\n",
    "        print(f\"in next_sum({y})\")\n",
    "        print(f\"y={y}\")\n",
    "        print(f\"print_sums({x}+{y})\")\n",
    "        return print_sums(x+y)\n",
    "        \n",
    "    return next_sum"
   ]
  },
  {
   "cell_type": "code",
   "execution_count": 26,
   "metadata": {},
   "outputs": [
    {
     "name": "stdout",
     "output_type": "stream",
     "text": [
      "x = 1\n",
      "in print_sums(1)\n",
      "in next_sum(2)\n",
      "y=2\n",
      "print_sums(1+2)\n",
      "x = 3\n",
      "in print_sums(3)\n",
      "in next_sum(3)\n",
      "y=3\n",
      "print_sums(3+3)\n",
      "x = 6\n",
      "in print_sums(6)\n"
     ]
    },
    {
     "data": {
      "text/plain": [
       "<function __main__.print_sums.<locals>.next_sum(y)>"
      ]
     },
     "execution_count": 26,
     "metadata": {},
     "output_type": "execute_result"
    }
   ],
   "source": [
    "print_sums(1)(2)(3)\n",
    "# print_sums(1) is a function, take 2 as para,\n",
    "# return a function that take 1+2 as para and print its para also"
   ]
  },
  {
   "cell_type": "code",
   "execution_count": 27,
   "metadata": {},
   "outputs": [
    {
     "name": "stdout",
     "output_type": "stream",
     "text": [
      "beets\n"
     ]
    }
   ],
   "source": [
    "# lab 2 Q2 WWPD: higher order functions\n",
    "def cake():\n",
    "    print('beets')\n",
    "    def pie():\n",
    "        print('sweets')\n",
    "        return 'cake'\n",
    "    return pie\n",
    "\n",
    "chocolate = cake()"
   ]
  },
  {
   "cell_type": "code",
   "execution_count": 28,
   "metadata": {},
   "outputs": [
    {
     "name": "stdout",
     "output_type": "stream",
     "text": [
      "sweets\n"
     ]
    },
    {
     "data": {
      "text/plain": [
       "'cake'"
      ]
     },
     "execution_count": 28,
     "metadata": {},
     "output_type": "execute_result"
    }
   ],
   "source": [
    "chocolate()"
   ]
  },
  {
   "cell_type": "code",
   "execution_count": 34,
   "metadata": {},
   "outputs": [
    {
     "name": "stdout",
     "output_type": "stream",
     "text": [
      "beets\n",
      "sweets\n"
     ]
    }
   ],
   "source": [
    "def cake():\n",
    "    print('beets')\n",
    "    def pie():\n",
    "        print('sweets')\n",
    "        return 'cake'\n",
    "    return pie\n",
    "chocolate = cake()\n",
    "more_chocolate, more_cake = chocolate(), cake\n",
    "\n",
    "def snake(x,y):\n",
    "    if cake == more_cake:\n",
    "        return chocolate\n",
    "    else:\n",
    "        return x+y\n"
   ]
  },
  {
   "cell_type": "code",
   "execution_count": 38,
   "metadata": {},
   "outputs": [
    {
     "data": {
      "text/plain": [
       "30"
      ]
     },
     "execution_count": 38,
     "metadata": {},
     "output_type": "execute_result"
    }
   ],
   "source": [
    "cake = 'cake'\n",
    "snake(10,20)"
   ]
  },
  {
   "cell_type": "code",
   "execution_count": null,
   "metadata": {},
   "outputs": [],
   "source": [
    "  "
   ]
  },
  {
   "cell_type": "code",
   "execution_count": null,
   "metadata": {},
   "outputs": [],
   "source": []
  }
 ],
 "metadata": {
  "interpreter": {
   "hash": "483ff14553254d47bb5ca00f7784335c916df64575b78231826ea105d8b3c56b"
  },
  "kernelspec": {
   "display_name": "Python 3.8.5 ('ccss')",
   "language": "python",
   "name": "python3"
  },
  "language_info": {
   "codemirror_mode": {
    "name": "ipython",
    "version": 3
   },
   "file_extension": ".py",
   "mimetype": "text/x-python",
   "name": "python",
   "nbconvert_exporter": "python",
   "pygments_lexer": "ipython3",
   "version": "3.8.5"
  },
  "orig_nbformat": 4
 },
 "nbformat": 4,
 "nbformat_minor": 2
}
