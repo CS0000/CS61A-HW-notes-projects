{
 "cells": [
  {
   "cell_type": "markdown",
   "metadata": {},
   "source": [
    "## Homework 1: Variables & Functions, Control\n",
    "https://www-inst.eecs.berkeley.edu/~cs61a/fa20/hw/hw01/"
   ]
  },
  {
   "cell_type": "markdown",
   "metadata": {},
   "source": [
    "## Q2: A Plus Abs B\n",
    "Fill in the blanks in the following function for adding a to the absolute value of b, without calling abs. You may not modify any of the provided code other than the two blanks."
   ]
  },
  {
   "cell_type": "code",
   "execution_count": 1,
   "metadata": {},
   "outputs": [],
   "source": [
    "from operator import add, sub\n",
    "\n",
    "def a_plus_abs_b(a, b):\n",
    "    \"\"\"Return a+abs(b), but without calling abs.\n",
    "    >>> a_plus_abs_b(2, 3)\n",
    "    5\n",
    "    >>> a_plus_abs_b(2, -3)\n",
    "    5\n",
    "    >>> # a check that you didn't change the return statement!\n",
    "    >>> import inspect, re\n",
    "    >>> re.findall(r'^\\s*(return .*)', inspect.getsource(a_plus_abs_b), re.M)\n",
    "    ['return f(a, b)']\n",
    "    \"\"\"\n",
    "    if b < 0:\n",
    "        f = sub  # assign a function to f, then f become a function itself\n",
    "    else:\n",
    "        f = add\n",
    "    return f(a, b)"
   ]
  },
  {
   "cell_type": "code",
   "execution_count": 3,
   "metadata": {},
   "outputs": [
    {
     "name": "stdout",
     "output_type": "stream",
     "text": [
      "5\n",
      "5\n"
     ]
    },
    {
     "data": {
      "text/plain": [
       "['return f(a, b)']"
      ]
     },
     "execution_count": 3,
     "metadata": {},
     "output_type": "execute_result"
    }
   ],
   "source": [
    "print(a_plus_abs_b(2, 3))\n",
    "print(a_plus_abs_b(2, -3))\n",
    "import inspect, re\n",
    "re.findall(r'^\\s*(return .*)', inspect.getsource(a_plus_abs_b), re.M)"
   ]
  },
  {
   "cell_type": "markdown",
   "metadata": {},
   "source": [
    "## Q3: Two of Three\n",
    "Write a function that takes three positive numbers as arguments and returns the sum of the squares of the two smallest numbers. Use only a single line for the body of the function."
   ]
  },
  {
   "cell_type": "code",
   "execution_count": 4,
   "metadata": {},
   "outputs": [],
   "source": [
    "def two_of_three(x, y, z):\n",
    "    \"\"\"Return a*a + b*b, where a and b are the two smallest members of the\n",
    "    positive numbers x, y, and z.\n",
    "\n",
    "    >>> two_of_three(1, 2, 3)\n",
    "    5\n",
    "    >>> two_of_three(5, 3, 1)\n",
    "    10\n",
    "    >>> two_of_three(10, 2, 8)\n",
    "    68\n",
    "    >>> two_of_three(5, 5, 5)\n",
    "    50\n",
    "    >>> # check that your code consists of nothing but an expression (this docstring)\n",
    "    >>> # a return statement\n",
    "    >>> import inspect, ast\n",
    "    >>> [type(x).__name__ for x in ast.parse(inspect.getsource(two_of_three)).body[0].body]\n",
    "    ['Expr', 'Return']\n",
    "    \"\"\"\n",
    "    \n",
    "    return sorted([x,y,z])[0] ** 2 + (sorted([x,y,z])[1]) ** 2"
   ]
  },
  {
   "cell_type": "code",
   "execution_count": 6,
   "metadata": {},
   "outputs": [
    {
     "name": "stdout",
     "output_type": "stream",
     "text": [
      "5\n",
      "68\n",
      "['Expr', 'Return']\n"
     ]
    }
   ],
   "source": [
    "import inspect, ast\n",
    "print(two_of_three(1, 2, 3))\n",
    "print(two_of_three(10, 2, 8))\n",
    "print([type(x).__name__ for x in ast.parse(inspect.getsource(two_of_three)).body[0].body])"
   ]
  },
  {
   "cell_type": "markdown",
   "metadata": {},
   "source": [
    "## Q4: Largest Factor\n",
    "Write a function that takes an integer n that is greater than 1 and returns the largest integer that is smaller than n and evenly divides n."
   ]
  },
  {
   "cell_type": "code",
   "execution_count": 18,
   "metadata": {},
   "outputs": [],
   "source": [
    "def largest_factor(n):\n",
    "    \"\"\"Return the largest factor of n that is smaller than n.\n",
    "\n",
    "    >>> largest_factor(15) # factors are 1, 3, 5\n",
    "    5\n",
    "    >>> largest_factor(80) # factors are 1, 2, 4, 5, 8, 10, 16, 20, 40\n",
    "    40\n",
    "    >>> largest_factor(13) # factor is 1 since 13 is prime\n",
    "    1\n",
    "    \"\"\"\n",
    "    _ = []\n",
    "    for i in range(1,n):\n",
    "        if n % i == 0:\n",
    "            _.append(i)\n",
    "        else:\n",
    "            pass\n",
    "    return max(_)"
   ]
  },
  {
   "cell_type": "code",
   "execution_count": 19,
   "metadata": {},
   "outputs": [
    {
     "name": "stdout",
     "output_type": "stream",
     "text": [
      "5\n",
      "1\n"
     ]
    }
   ],
   "source": [
    "print(largest_factor(15))\n",
    "print(largest_factor(13))"
   ]
  },
  {
   "cell_type": "markdown",
   "metadata": {},
   "source": [
    "## Q5: If Function vs Statement\n",
    "Let's try to write a function that does the same thing as an if statement."
   ]
  },
  {
   "cell_type": "code",
   "execution_count": 20,
   "metadata": {},
   "outputs": [],
   "source": [
    "def if_function(condition, true_result, false_result):\n",
    "    \"\"\"Return true_result if condition is a true value, and\n",
    "    false_result otherwise.\n",
    "\n",
    "    >>> if_function(True, 2, 3)\n",
    "    2\n",
    "    >>> if_function(False, 2, 3)\n",
    "    3\n",
    "    >>> if_function(3==2, 3+2, 3-2)\n",
    "    1\n",
    "    >>> if_function(3>2, 3+2, 3-2)\n",
    "    5\n",
    "    \"\"\"\n",
    "    if condition:\n",
    "        return true_result\n",
    "    else:\n",
    "        return false_result"
   ]
  },
  {
   "cell_type": "markdown",
   "metadata": {},
   "source": [
    "Despite the doctests above, this function actually does not do the same thing as an if statement in all cases.       \n",
    "To prove this fact, write functions cond, true_func, and false_func such that with_if_statement prints the number 47,        \n",
    "but with_if_function prints both 42 and 47."
   ]
  },
  {
   "cell_type": "code",
   "execution_count": 21,
   "metadata": {},
   "outputs": [],
   "source": [
    "def with_if_statement():\n",
    "    \"\"\"\n",
    "    >>> result = with_if_statement()\n",
    "    47\n",
    "    >>> print(result)\n",
    "    None\n",
    "    \"\"\"\n",
    "    if cond():\n",
    "        return true_func()\n",
    "    else:\n",
    "        return false_func()\n",
    "\n",
    "def with_if_function():\n",
    "    \"\"\"\n",
    "    >>> result = with_if_function()\n",
    "    42\n",
    "    47\n",
    "    >>> print(result)\n",
    "    None\n",
    "    \"\"\"\n",
    "    return if_function(cond(), true_func(), false_func())\n",
    "\n",
    "def cond():\n",
    "    return False\n",
    "\n",
    "def true_func():\n",
    "    print(42)\n",
    "\n",
    "def false_func():\n",
    "    print(47)\n"
   ]
  },
  {
   "cell_type": "code",
   "execution_count": 23,
   "metadata": {},
   "outputs": [
    {
     "name": "stdout",
     "output_type": "stream",
     "text": [
      "47\n",
      "None\n"
     ]
    }
   ],
   "source": [
    "result = with_if_statement()\n",
    "print(result)"
   ]
  },
  {
   "cell_type": "code",
   "execution_count": 24,
   "metadata": {},
   "outputs": [
    {
     "name": "stdout",
     "output_type": "stream",
     "text": [
      "42\n",
      "47\n",
      "None\n"
     ]
    }
   ],
   "source": [
    "result = with_if_function()\n",
    "print(result)"
   ]
  },
  {
   "cell_type": "markdown",
   "metadata": {},
   "source": [
    "## Q6: Hailstone       \n",
    "Douglas Hofstadter's Pulitzer-prize-winning book, Gödel, Escher, Bach, poses the following mathematical puzzle.        \n",
    "\n",
    "1. Pick a positive integer n as the start.     \n",
    "2. If n is even, divide it by 2.\n",
    "3. If n is odd, multiply it by 3 and add 1.\n",
    "4. Continue this process until n is 1.      \n",
    "\n",
    "The number n will travel up and down but eventually end at 1 (at least for all numbers that have ever been tried -- nobody has ever proved that the sequence will terminate). Analogously, a hailstone travels up and down in the atmosphere before eventually landing on earth.\n",
    "\n",
    "This sequence of values of n is often called a Hailstone sequence.       \n",
    "Write a function that takes a single argument with formal parameter name n,       \n",
    "prints out the hailstone sequence starting at n, and returns the number of steps in the sequence:"
   ]
  },
  {
   "cell_type": "code",
   "execution_count": 63,
   "metadata": {},
   "outputs": [],
   "source": [
    "def hailstone(n,count=1):\n",
    "    \"\"\"Print the hailstone sequence starting at n and return its\n",
    "    length.\n",
    "\n",
    "    >>> a = hailstone(10)\n",
    "    10\n",
    "    5\n",
    "    16\n",
    "    8\n",
    "    4\n",
    "    2\n",
    "    1\n",
    "    >>> a\n",
    "    7\n",
    "    \"\"\"\n",
    "    print(int(n))\n",
    "    if n % 2 == 0:\n",
    "        count += 1\n",
    "        n = n/2\n",
    "        print(f\"count: {count}\")\n",
    "        \n",
    "    else:\n",
    "        count += 1\n",
    "        n = n*3+1\n",
    "        print(f\"count: {count}\")\n",
    "    \n",
    "    if n == 1:\n",
    "        print(int(n))\n",
    "        return count\n",
    "    else:\n",
    "        return hailstone(n,count)\n",
    "    \n"
   ]
  },
  {
   "cell_type": "code",
   "execution_count": 64,
   "metadata": {},
   "outputs": [
    {
     "name": "stdout",
     "output_type": "stream",
     "text": [
      "10\n",
      "count: 2\n",
      "5\n",
      "count: 3\n",
      "16\n",
      "count: 4\n",
      "8\n",
      "count: 5\n",
      "4\n",
      "count: 6\n",
      "2\n",
      "count: 7\n",
      "1\n",
      "7\n"
     ]
    }
   ],
   "source": [
    "a = hailstone(10)\n",
    "print(a)"
   ]
  },
  {
   "cell_type": "code",
   "execution_count": 65,
   "metadata": {},
   "outputs": [
    {
     "name": "stdout",
     "output_type": "stream",
     "text": [
      "10\n",
      "5\n",
      "16\n",
      "8\n",
      "4\n",
      "2\n",
      "1\n"
     ]
    },
    {
     "data": {
      "text/plain": [
       "7"
      ]
     },
     "execution_count": 65,
     "metadata": {},
     "output_type": "execute_result"
    }
   ],
   "source": [
    "## or use while\n",
    "def hailstone(n):\n",
    "    step = 1\n",
    "    while n != 1:\n",
    "        print(n)\n",
    "        if n % 2 == 0:\n",
    "            n //= 2\n",
    "        else:\n",
    "            n = 3*n + 1\n",
    "        step += 1\n",
    "    print(1)\n",
    "    return step\n",
    "\n",
    "hailstone(10)"
   ]
  },
  {
   "cell_type": "code",
   "execution_count": null,
   "metadata": {},
   "outputs": [],
   "source": []
  },
  {
   "cell_type": "code",
   "execution_count": null,
   "metadata": {},
   "outputs": [],
   "source": []
  }
 ],
 "metadata": {
  "interpreter": {
   "hash": "483ff14553254d47bb5ca00f7784335c916df64575b78231826ea105d8b3c56b"
  },
  "kernelspec": {
   "display_name": "Python 3.8.5 ('ccss')",
   "language": "python",
   "name": "python3"
  },
  "language_info": {
   "codemirror_mode": {
    "name": "ipython",
    "version": 3
   },
   "file_extension": ".py",
   "mimetype": "text/x-python",
   "name": "python",
   "nbconvert_exporter": "python",
   "pygments_lexer": "ipython3",
   "version": "3.8.5"
  },
  "orig_nbformat": 4
 },
 "nbformat": 4,
 "nbformat_minor": 2
}
