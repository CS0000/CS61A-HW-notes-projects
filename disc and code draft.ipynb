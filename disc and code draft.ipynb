{
 "cells": [
  {
   "cell_type": "code",
   "execution_count": 14,
   "metadata": {},
   "outputs": [],
   "source": [
    "#### it's a draft notebook ####"
   ]
  },
  {
   "cell_type": "markdown",
   "metadata": {},
   "source": [
    "## higher order function"
   ]
  },
  {
   "cell_type": "code",
   "execution_count": 12,
   "metadata": {},
   "outputs": [],
   "source": [
    "# environments for higher order function\n",
    "# https://www.youtube.com/watch?v=3Zi0kxmoMtA&list=PL6BsET-8jgYXhzd5ou1faNsWVoWBRUY8q&index=3\n",
    "def repeat(f,x):\n",
    "    # repeat f(x) until f(x) == x\n",
    "    print(f\"x = {x}\")\n",
    "    print(f\"assgin x to (x+5) // 3 until x = (x+5) // 3\")\n",
    "    print()\n",
    "    while f(x) !=x:\n",
    "        print(f\"(x+5) // 3 != x is True\")\n",
    "        print(f\"assgin x to ({x}+5) // 3\")\n",
    "        x = f(x)\n",
    "        print(f\"x = {x}\")\n",
    "    print(f\"(x+5) // 3 != x is False\")\n",
    "    print(f\"x = {x}\")\n",
    "    return x\n",
    "\n",
    "def g(y):\n",
    "    return (y+5) // 3"
   ]
  },
  {
   "cell_type": "code",
   "execution_count": 13,
   "metadata": {},
   "outputs": [
    {
     "name": "stdout",
     "output_type": "stream",
     "text": [
      "x = 5\n",
      "assgin x to (x+5) // 3 until x = (x+5) // 3\n",
      "\n",
      "(x+5) // 3 != x is True\n",
      "assgin x to (5+5) // 3\n",
      "x = 3\n",
      "(x+5) // 3 != x is True\n",
      "assgin x to (3+5) // 3\n",
      "x = 2\n",
      "(x+5) // 3 != x is False\n",
      "x = 2\n"
     ]
    }
   ],
   "source": [
    "result = repeat(g,5)"
   ]
  },
  {
   "cell_type": "markdown",
   "metadata": {},
   "source": [
    "## Nested definition"
   ]
  },
  {
   "cell_type": "code",
   "execution_count": 15,
   "metadata": {},
   "outputs": [],
   "source": [
    "# Nested definition\n",
    "# https://www.youtube.com/watch?v=qLZhkM45Jtc&list=PL6BsET-8jgYXhzd5ou1faNsWVoWBRUY8q&index=4\n",
    "def make_adder(n):\n",
    "    def adder(k):\n",
    "        return k+n\n",
    "    return adder"
   ]
  },
  {
   "cell_type": "code",
   "execution_count": 17,
   "metadata": {},
   "outputs": [
    {
     "data": {
      "text/plain": [
       "7"
      ]
     },
     "execution_count": 17,
     "metadata": {},
     "output_type": "execute_result"
    }
   ],
   "source": [
    "make_adder(3)(4) # make_adder(3) is a function, which will add its \"inner\" para with 4"
   ]
  },
  {
   "cell_type": "code",
   "execution_count": null,
   "metadata": {},
   "outputs": [],
   "source": [
    "# local names\n",
    "# https://www.youtube.com/watch?v=1Y4eemG0hzk&list=PL6BsET-8jgYXhzd5ou1faNsWVoWBRUY8q&index=5\n",
    "def f(x,y):\n",
    "    return g(x)\n",
    "\n",
    "def g(a):\n",
    "    return a + y  # y is not defined in g(a) environment,even though it's defined in f(x,y)\n",
    "# result = f(1,2) this will cause error\n",
    "\n",
    "\n",
    "def f(x,y):\n",
    "    def g(a):\n",
    "        return a+y # now g(a) is in the f(x,y) environment, f is g's parent\n",
    "        # it's a nested defined function\n",
    "    return g(x)\n",
    "# result = f(1,2)  this will be ok"
   ]
  },
  {
   "cell_type": "code",
   "execution_count": 18,
   "metadata": {},
   "outputs": [
    {
     "data": {
      "text/plain": [
       "3"
      ]
     },
     "execution_count": 18,
     "metadata": {},
     "output_type": "execute_result"
    }
   ],
   "source": [
    "def f(x,y):\n",
    "    def g(a):\n",
    "        return a+y\n",
    "    return g(x)\n",
    "f(1,2)"
   ]
  },
  {
   "cell_type": "markdown",
   "metadata": {},
   "source": [
    "## self-reference"
   ]
  },
  {
   "cell_type": "code",
   "execution_count": 25,
   "metadata": {},
   "outputs": [],
   "source": [
    "# self-reference\n",
    "# https://www.youtube.com/watch?v=31EDjrN1x5k&list=PL6BsET-8jgYXhzd5ou1faNsWVoWBRUY8q&index=8\n",
    "def print_sums(x):\n",
    "    print(f\"x = {x}\")\n",
    "    # print_sums's para x is used to store the sum of all the passed arguements\n",
    "    print(f\"in print_sums({x})\")\n",
    "    def next_sum(y):\n",
    "        print(f\"in next_sum({y})\")\n",
    "        print(f\"y={y}\")\n",
    "        print(f\"print_sums({x}+{y})\")\n",
    "        return print_sums(x+y)\n",
    "        \n",
    "    return next_sum"
   ]
  },
  {
   "cell_type": "code",
   "execution_count": 26,
   "metadata": {},
   "outputs": [
    {
     "name": "stdout",
     "output_type": "stream",
     "text": [
      "x = 1\n",
      "in print_sums(1)\n",
      "in next_sum(2)\n",
      "y=2\n",
      "print_sums(1+2)\n",
      "x = 3\n",
      "in print_sums(3)\n",
      "in next_sum(3)\n",
      "y=3\n",
      "print_sums(3+3)\n",
      "x = 6\n",
      "in print_sums(6)\n"
     ]
    },
    {
     "data": {
      "text/plain": [
       "<function __main__.print_sums.<locals>.next_sum(y)>"
      ]
     },
     "execution_count": 26,
     "metadata": {},
     "output_type": "execute_result"
    }
   ],
   "source": [
    "print_sums(1)(2)(3)\n",
    "# print_sums(1) is a function, take 2 as para,\n",
    "# return a function that take 1+2 as para and print its para also"
   ]
  },
  {
   "cell_type": "markdown",
   "metadata": {},
   "source": [
    "## Lab 2 draft"
   ]
  },
  {
   "cell_type": "code",
   "execution_count": 27,
   "metadata": {},
   "outputs": [
    {
     "name": "stdout",
     "output_type": "stream",
     "text": [
      "beets\n"
     ]
    }
   ],
   "source": [
    "# lab 2 Q2 WWPD: higher order functions\n",
    "def cake():\n",
    "    print('beets')\n",
    "    def pie():\n",
    "        print('sweets')\n",
    "        return 'cake'\n",
    "    return pie\n",
    "\n",
    "chocolate = cake()"
   ]
  },
  {
   "cell_type": "code",
   "execution_count": 28,
   "metadata": {},
   "outputs": [
    {
     "name": "stdout",
     "output_type": "stream",
     "text": [
      "sweets\n"
     ]
    },
    {
     "data": {
      "text/plain": [
       "'cake'"
      ]
     },
     "execution_count": 28,
     "metadata": {},
     "output_type": "execute_result"
    }
   ],
   "source": [
    "chocolate()"
   ]
  },
  {
   "cell_type": "code",
   "execution_count": 34,
   "metadata": {},
   "outputs": [
    {
     "name": "stdout",
     "output_type": "stream",
     "text": [
      "beets\n",
      "sweets\n"
     ]
    }
   ],
   "source": [
    "def cake():\n",
    "    print('beets')\n",
    "    def pie():\n",
    "        print('sweets')\n",
    "        return 'cake'\n",
    "    return pie\n",
    "chocolate = cake()\n",
    "more_chocolate, more_cake = chocolate(), cake\n",
    "\n",
    "def snake(x,y):\n",
    "    if cake == more_cake:\n",
    "        return chocolate\n",
    "    else:\n",
    "        return x+y\n"
   ]
  },
  {
   "cell_type": "code",
   "execution_count": 38,
   "metadata": {},
   "outputs": [
    {
     "data": {
      "text/plain": [
       "30"
      ]
     },
     "execution_count": 38,
     "metadata": {},
     "output_type": "execute_result"
    }
   ],
   "source": [
    "cake = 'cake'\n",
    "snake(10,20)"
   ]
  },
  {
   "cell_type": "code",
   "execution_count": 40,
   "metadata": {},
   "outputs": [
    {
     "name": "stdout",
     "output_type": "stream",
     "text": [
      "2\n",
      "4\n"
     ]
    }
   ],
   "source": [
    "# Currying example\n",
    "def keep_ints(cond,n):\n",
    "    for i in range(1,n+1):\n",
    "        if cond(i):\n",
    "            print(i)\n",
    "            \n",
    "\n",
    "def is_even(x):\n",
    "    return x%2==0\n",
    "\n",
    "keep_ints(is_even,5)"
   ]
  },
  {
   "cell_type": "code",
   "execution_count": 41,
   "metadata": {},
   "outputs": [
    {
     "name": "stdout",
     "output_type": "stream",
     "text": [
      "2\n",
      "4\n"
     ]
    }
   ],
   "source": [
    "# Currying example\n",
    "def make_keeper(n):\n",
    "    def f(cond):\n",
    "        for i in range(1,n+1):\n",
    "            if cond(i):\n",
    "                print(i)\n",
    "    return f\n",
    "\n",
    "make_keeper(5)(is_even)"
   ]
  },
  {
   "cell_type": "code",
   "execution_count": 47,
   "metadata": {},
   "outputs": [
    {
     "name": "stdout",
     "output_type": "stream",
     "text": [
      "1\n"
     ]
    }
   ],
   "source": [
    "# self-reference example\n",
    "def print_delayed(x):\n",
    "    def f(y):\n",
    "        print(x)\n",
    "        return print_delayed(y)\n",
    "    return f\n",
    "\n",
    "f = print_delayed(1)\n",
    "f = f(2)"
   ]
  },
  {
   "cell_type": "code",
   "execution_count": 49,
   "metadata": {},
   "outputs": [
    {
     "name": "stdout",
     "output_type": "stream",
     "text": [
      "3\n",
      "4\n"
     ]
    }
   ],
   "source": [
    "# f = f(3)\n",
    "f = f(4)(5)"
   ]
  },
  {
   "cell_type": "code",
   "execution_count": 64,
   "metadata": {},
   "outputs": [],
   "source": [
    "# lnhn algorithm\n",
    "def split(n):\n",
    "    return n//10, n%10\n",
    "\n",
    "def sum_digits(n):\n",
    "    # n: 1234 --> 1+2+3+4 = 10\n",
    "    if n<10:\n",
    "        return n\n",
    "    else:\n",
    "        all_but_last, last = split(n)\n",
    "        return sum_digits(all_but_last) + last\n",
    "\n",
    "def luhn_sum(n):\n",
    "    print(f\"we are in luhn_sum now\")\n",
    "    if n<10:\n",
    "        print(f\"n<10, n = {n}\")\n",
    "        return n\n",
    "    else:\n",
    "        print(f\"n>10\")\n",
    "        all_but_last, last = split(n)\n",
    "        print(f\"split(n) to all_but_last: {all_but_last}, last: {last}\")\n",
    "        return luhn_sum_double(all_but_last) + last\n",
    "\n",
    "def luhn_sum_double(n):\n",
    "    print(f\"we are in luhn_sum_double now\")\n",
    "    all_but_last, last = split(n)\n",
    "    luhn_digit = sum_digits(2 * last)\n",
    "    if n<10:\n",
    "        print(f\"n<10, n = {n}\")\n",
    "        return luhn_digit\n",
    "    else:\n",
    "        print(f\"n>10\")\n",
    "        print(f\"all_but_last: {all_but_last}, last: {last}, luhn_digit: {luhn_digit}\")\n",
    "        return luhn_sum(all_but_last) + luhn_digit"
   ]
  },
  {
   "cell_type": "code",
   "execution_count": 66,
   "metadata": {},
   "outputs": [
    {
     "name": "stdout",
     "output_type": "stream",
     "text": [
      "we are in luhn_sum_double now\n",
      "n>10\n",
      "all_but_last: 1234, last: 5, luhn_digit: 1\n",
      "we are in luhn_sum now\n",
      "n>10\n",
      "split(n) to all_but_last: 123, last: 4\n",
      "we are in luhn_sum_double now\n",
      "n>10\n",
      "all_but_last: 12, last: 3, luhn_digit: 6\n",
      "we are in luhn_sum now\n",
      "n>10\n",
      "split(n) to all_but_last: 1, last: 2\n",
      "we are in luhn_sum_double now\n",
      "n<10, n = 1\n"
     ]
    },
    {
     "data": {
      "text/plain": [
       "15"
      ]
     },
     "execution_count": 66,
     "metadata": {},
     "output_type": "execute_result"
    }
   ],
   "source": [
    "luhn_sum_double(12345)"
   ]
  },
  {
   "cell_type": "markdown",
   "metadata": {},
   "source": [
    "## iteration & recursion"
   ]
  },
  {
   "cell_type": "code",
   "execution_count": 71,
   "metadata": {},
   "outputs": [],
   "source": [
    "# iteration & recursion\n",
    "def sum_digits_iter(n):\n",
    "    digit_sum = 0\n",
    "    while n>0:\n",
    "        print(f\"n = {n}\")\n",
    "        n,last = split(n)\n",
    "        print(f\"split(n) into a new n {n} and last {last}\")\n",
    "        digit_sum = digit_sum + last\n",
    "        print(f\"digit_sum = digit_sum {digit_sum} + last {last}\")\n",
    "    return digit_sum\n",
    "\n",
    "def sum_digits_rec(n,digit_sum):\n",
    "    if n==0:\n",
    "        print(f\"n=0 digit_sum={digit_sum}\")\n",
    "        return digit_sum\n",
    "    else:\n",
    "        n,last = split(n)\n",
    "        print(f\"n!=0\")\n",
    "        print(f\"split(n) into a new n {n} and last {last}\")\n",
    "        print(f\"digit_sum + last = {digit_sum} + {last}\")\n",
    "        return sum_digits_rec(n,digit_sum+last)"
   ]
  },
  {
   "cell_type": "code",
   "execution_count": 72,
   "metadata": {},
   "outputs": [
    {
     "name": "stdout",
     "output_type": "stream",
     "text": [
      "n = 1234\n",
      "split(n) into a new n 123 and last 4\n",
      "digit_sum = digit_sum 4 + last 4\n",
      "n = 123\n",
      "split(n) into a new n 12 and last 3\n",
      "digit_sum = digit_sum 7 + last 3\n",
      "n = 12\n",
      "split(n) into a new n 1 and last 2\n",
      "digit_sum = digit_sum 9 + last 2\n",
      "n = 1\n",
      "split(n) into a new n 0 and last 1\n",
      "digit_sum = digit_sum 10 + last 1\n"
     ]
    },
    {
     "data": {
      "text/plain": [
       "10"
      ]
     },
     "execution_count": 72,
     "metadata": {},
     "output_type": "execute_result"
    }
   ],
   "source": [
    "sum_digits_iter(1234)"
   ]
  },
  {
   "cell_type": "code",
   "execution_count": 73,
   "metadata": {},
   "outputs": [
    {
     "name": "stdout",
     "output_type": "stream",
     "text": [
      "n!=0\n",
      "split(n) into a new n 123 and last 4\n",
      "digit_sum + last = 0 + 4\n",
      "n!=0\n",
      "split(n) into a new n 12 and last 3\n",
      "digit_sum + last = 4 + 3\n",
      "n!=0\n",
      "split(n) into a new n 1 and last 2\n",
      "digit_sum + last = 7 + 2\n",
      "n!=0\n",
      "split(n) into a new n 0 and last 1\n",
      "digit_sum + last = 9 + 1\n",
      "n=0 digit_sum=10\n"
     ]
    },
    {
     "data": {
      "text/plain": [
       "10"
      ]
     },
     "execution_count": 73,
     "metadata": {},
     "output_type": "execute_result"
    }
   ],
   "source": [
    "sum_digits_rec(1234,0)"
   ]
  },
  {
   "cell_type": "code",
   "execution_count": 77,
   "metadata": {},
   "outputs": [
    {
     "name": "stdout",
     "output_type": "stream",
     "text": [
      "m = 5, n = 3\n",
      "m = 5, n = 2\n",
      "n = 1\n"
     ]
    },
    {
     "data": {
      "text/plain": [
       "15"
      ]
     },
     "execution_count": 77,
     "metadata": {},
     "output_type": "execute_result"
    }
   ],
   "source": [
    "# recursion example \n",
    "def multiply(m,n):\n",
    "    assert (m >0 and n>0)\n",
    "    if n == 1:\n",
    "        print(f\"n = {n}\")\n",
    "        return m\n",
    "    else:\n",
    "        print(f\"m = {m}, n = {n}\")\n",
    "        return m +  multiply(m,n-1)\n",
    "\n",
    "multiply(5,3)"
   ]
  },
  {
   "cell_type": "code",
   "execution_count": 79,
   "metadata": {},
   "outputs": [
    {
     "name": "stdout",
     "output_type": "stream",
     "text": [
      "y>0, y=2, x=3\n",
      "y>0, y=1, x=3\n"
     ]
    },
    {
     "data": {
      "text/plain": [
       "9"
      ]
     },
     "execution_count": 79,
     "metadata": {},
     "output_type": "execute_result"
    }
   ],
   "source": [
    "def rec(x,y):\n",
    "    if y>0:\n",
    "        print(f\"y>0, y={y}, x={x}\")\n",
    "        return x*rec(x,y-1)\n",
    "    return 1\n",
    "\n",
    "rec(3,2)"
   ]
  },
  {
   "cell_type": "code",
   "execution_count": 92,
   "metadata": {},
   "outputs": [
    {
     "name": "stdout",
     "output_type": "stream",
     "text": [
      "10\n",
      "5\n",
      "16\n",
      "8\n",
      "4\n",
      "2\n",
      "1\n"
     ]
    }
   ],
   "source": [
    "# recursion version of hailstone\n",
    "def hailstone(n,count=1):\n",
    "    print(int(n))\n",
    "    if n % 2 == 0:\n",
    "        count += 1\n",
    "        n = n/2\n",
    "        \n",
    "    else:\n",
    "        count += 1\n",
    "        n = n*3+1\n",
    "    \n",
    "    if n == 1:\n",
    "        print(int(n))\n",
    "        return count\n",
    "    else:\n",
    "        return hailstone(n,count)\n",
    "    \n",
    "a = hailstone(10)"
   ]
  },
  {
   "cell_type": "code",
   "execution_count": 93,
   "metadata": {},
   "outputs": [
    {
     "data": {
      "text/plain": [
       "7"
      ]
     },
     "execution_count": 93,
     "metadata": {},
     "output_type": "execute_result"
    }
   ],
   "source": [
    "a"
   ]
  },
  {
   "cell_type": "code",
   "execution_count": 97,
   "metadata": {},
   "outputs": [
    {
     "name": "stdout",
     "output_type": "stream",
     "text": [
      "10\n",
      "5\n",
      "16\n",
      "8\n",
      "4\n",
      "2\n",
      "1\n"
     ]
    }
   ],
   "source": [
    "# while version of hailstone\n",
    "def hailstone(n):\n",
    "    assert n>0\n",
    "    count = 1\n",
    "    print(int(n))\n",
    "    while n >1:\n",
    "        count+=1\n",
    "        if n%2 ==0:\n",
    "            n = n/2\n",
    "            print(int(n))\n",
    "        else:\n",
    "            n = n*3+1\n",
    "            print(int(n))\n",
    "    return count\n",
    "a = hailstone(10)\n"
   ]
  },
  {
   "cell_type": "code",
   "execution_count": 99,
   "metadata": {},
   "outputs": [
    {
     "data": {
      "text/plain": [
       "7"
      ]
     },
     "execution_count": 99,
     "metadata": {},
     "output_type": "execute_result"
    }
   ],
   "source": [
    "a"
   ]
  },
  {
   "cell_type": "code",
   "execution_count": null,
   "metadata": {},
   "outputs": [],
   "source": []
  },
  {
   "cell_type": "code",
   "execution_count": 129,
   "metadata": {},
   "outputs": [],
   "source": [
    "# help merge function \n",
    "def d(n):\n",
    "    # 43 --> 4,3 \n",
    "    return n//10 , n-(n//10)*10\n",
    "\n",
    "def s(n):\n",
    "    # 45 --> 54\n",
    "    biga,bigb = d(n)\n",
    "    if biga<bigb:\n",
    "        n = bigb*10+biga\n",
    "    return n"
   ]
  },
  {
   "cell_type": "code",
   "execution_count": 128,
   "metadata": {},
   "outputs": [
    {
     "data": {
      "text/plain": [
       "9651"
      ]
     },
     "execution_count": 128,
     "metadata": {},
     "output_type": "execute_result"
    }
   ],
   "source": [
    "# if I don't use a recursion\n",
    "n1,n2 = 65,19\n",
    "\n",
    "if n1>n2:\n",
    "    big = n1\n",
    "    small = n2\n",
    "else:\n",
    "    big = n2\n",
    "    small = n1\n",
    "\n",
    "s_ = s((s(big)%10)*10+s(small)%10)\n",
    "b_ = s((s(big)//10)*10+s(small)//10)\n",
    "\n",
    "big = b_\n",
    "small = s_\n",
    "big*100+small"
   ]
  },
  {
   "cell_type": "code",
   "execution_count": 146,
   "metadata": {},
   "outputs": [
    {
     "data": {
      "text/plain": [
       "3211"
      ]
     },
     "execution_count": 146,
     "metadata": {},
     "output_type": "execute_result"
    }
   ],
   "source": [
    "# recursion version merge function\n",
    "def merge(n1,n2):\n",
    "    # 21，31 --> 3211\n",
    "    a,b,c,d = n1//10, n1%10, n2//10, n2%10\n",
    "    if a >= b >= c >= d:\n",
    "        return int(''.join([str(i) for i in [a,b,c,d] if i!=0])) \n",
    "    else:\n",
    "        n1 = s(n1)\n",
    "        n2 = s(n2)\n",
    "        n1,n2 = (n1//10)*10 + n2//10, (n1%10)*10 + n2%10\n",
    "        return merge(n1,n2)\n",
    "\n",
    "merge(21,31)"
   ]
  },
  {
   "cell_type": "code",
   "execution_count": 195,
   "metadata": {},
   "outputs": [],
   "source": [
    "def ff(n):\n",
    "    return n+1\n",
    "\n",
    "def make_func_repeater(f,x):\n",
    "    def repeat(x):\n",
    "        if x ==1:\n",
    "            return f(x)\n",
    "        else:\n",
    "            x = f(x-1)\n",
    "            return f(x)\n",
    "    return repeat\n",
    "    \n"
   ]
  },
  {
   "cell_type": "code",
   "execution_count": 202,
   "metadata": {},
   "outputs": [
    {
     "data": {
      "text/plain": [
       "3"
      ]
     },
     "execution_count": 202,
     "metadata": {},
     "output_type": "execute_result"
    }
   ],
   "source": [
    "# a = make_func_repeater(ff,1)\n",
    "a = make_func_repeater(ff,1)\n",
    "a(2)"
   ]
  },
  {
   "cell_type": "code",
   "execution_count": 3,
   "metadata": {},
   "outputs": [],
   "source": [
    "# factorial recursion version\n",
    "def factorial(n):\n",
    "    if n ==0:\n",
    "        print(f\"n={n}\")\n",
    "        return 1\n",
    "    else:\n",
    "        print(f\"n={n}\")\n",
    "        return n * factorial(n-1)"
   ]
  },
  {
   "cell_type": "code",
   "execution_count": 4,
   "metadata": {},
   "outputs": [
    {
     "name": "stdout",
     "output_type": "stream",
     "text": [
      "n=4\n",
      "n=3\n",
      "n=2\n",
      "n=1\n",
      "n=0\n"
     ]
    },
    {
     "data": {
      "text/plain": [
       "24"
      ]
     },
     "execution_count": 4,
     "metadata": {},
     "output_type": "execute_result"
    }
   ],
   "source": [
    "factorial(4)"
   ]
  },
  {
   "cell_type": "markdown",
   "metadata": {},
   "source": [
    "## cascade fucntion"
   ]
  },
  {
   "cell_type": "code",
   "execution_count": 11,
   "metadata": {},
   "outputs": [],
   "source": [
    "# cascade function\n",
    "def cascade(n):\n",
    "    if n<10:\n",
    "        print(n)\n",
    "    else:\n",
    "        print(n)\n",
    "        # print(f\"first print n={n}\")\n",
    "        cascade(n//10)\n",
    "        # print(f\"second print n={n}\")\n",
    "        print(n)"
   ]
  },
  {
   "cell_type": "code",
   "execution_count": 12,
   "metadata": {},
   "outputs": [
    {
     "name": "stdout",
     "output_type": "stream",
     "text": [
      "132\n",
      "13\n",
      "1\n",
      "13\n",
      "132\n"
     ]
    }
   ],
   "source": [
    "cascade(132)"
   ]
  },
  {
   "cell_type": "code",
   "execution_count": 35,
   "metadata": {},
   "outputs": [],
   "source": [
    "# inverse cascade function\n",
    "def i_cascade(n):\n",
    "    if n < 10:\n",
    "        print(n)\n",
    "    if n > 10:\n",
    "        print(n)\n",
    "        i_cascade(n//10)\n",
    "        \n",
    "      \n"
   ]
  },
  {
   "cell_type": "code",
   "execution_count": 37,
   "metadata": {},
   "outputs": [
    {
     "name": "stdout",
     "output_type": "stream",
     "text": [
      "1\n",
      "12\n",
      "123\n",
      "1234\n",
      "123\n",
      "12\n",
      "1\n"
     ]
    }
   ],
   "source": [
    "def inverse_cascade(n):\n",
    "    grow(n)\n",
    "    print(n)\n",
    "    shrink(n)\n",
    "\n",
    "def f_then_g(f,g,n):\n",
    "    if n:\n",
    "        f(n)\n",
    "        g(n)\n",
    "\n",
    "def grow(n):\n",
    "    f_then_g(grow,print,n//10)\n",
    "\n",
    "def shrink(n):\n",
    "    f_then_g(print,shrink,n//10)\n",
    "\n",
    "inverse_cascade(1234)\n",
    "# I still couldn't understand this!\n"
   ]
  },
  {
   "cell_type": "code",
   "execution_count": 39,
   "metadata": {},
   "outputs": [
    {
     "data": {
      "text/plain": [
       "13"
      ]
     },
     "execution_count": 39,
     "metadata": {},
     "output_type": "execute_result"
    }
   ],
   "source": [
    "# Fibonacci seqs\n",
    "def fib(n):\n",
    "    # the n_th fib number\n",
    "    if n ==0:\n",
    "        return 0\n",
    "    elif n ==1:\n",
    "        return 1\n",
    "    else:\n",
    "        return fib(n-1) + fib(n-2)\n",
    "\n",
    "fib(7)"
   ]
  },
  {
   "cell_type": "code",
   "execution_count": 40,
   "metadata": {},
   "outputs": [],
   "source": [
    "def move_disk(disk_num,from_peg,to_peg):\n",
    "    print(f\"move disk {str(disk_num)} from peg {str(from_peg)} to peg {str(to_peg)}\")\n",
    "\n",
    "def solve_hanoi(n,start_peg,end_peg):\n",
    "    if n ==1:\n",
    "        move_disk(n,start_peg,end_peg)\n",
    "    else:\n",
    "        spare_peg = 6-start_peg-end_peg\n",
    "        solve_hanoi(n-1, start_peg,end_peg)\n",
    "        move_disk(n,start_peg,end_peg)\n",
    "        solve_hanoi(n-1,spare_peg,end_peg)"
   ]
  },
  {
   "cell_type": "code",
   "execution_count": 41,
   "metadata": {},
   "outputs": [
    {
     "name": "stdout",
     "output_type": "stream",
     "text": [
      "move disk 1 from peg 1 to peg 2\n",
      "move disk 2 from peg 1 to peg 2\n",
      "move disk 1 from peg 3 to peg 2\n",
      "move disk 3 from peg 1 to peg 2\n",
      "move disk 1 from peg 3 to peg 2\n",
      "move disk 2 from peg 3 to peg 2\n",
      "move disk 1 from peg 1 to peg 2\n"
     ]
    }
   ],
   "source": [
    "solve_hanoi(3,1,2)"
   ]
  },
  {
   "cell_type": "code",
   "execution_count": null,
   "metadata": {},
   "outputs": [],
   "source": [
    "# count partitions\n",
    "# count_partitions(5,3)\n",
    "# 3+2\n",
    "# 3+1+1\n",
    "# 2+2+1\n",
    "# 2+1+1+1\n",
    "# 1+1+1+1+1\n",
    "def count_partitions(n,m):\n",
    "    # return how many ways to make the equation, e.g. there are 5 for f(5,3)\n",
    "    if n==0:\n",
    "        return 1\n",
    "    elif n<0:\n",
    "        return 0\n",
    "    elif m==0:\n",
    "        return 0\n",
    "    else:\n",
    "        with_m = count_partitions(n-m,m)\n",
    "        without_m = count_partitions(n,m-1)\n",
    "        return with_m + without_m\n",
    "    \n"
   ]
  },
  {
   "cell_type": "code",
   "execution_count": 3,
   "metadata": {},
   "outputs": [
    {
     "data": {
      "text/plain": [
       "10"
      ]
     },
     "execution_count": 3,
     "metadata": {},
     "output_type": "execute_result"
    }
   ],
   "source": [
    "# write a recursive function and iterative function\n",
    "# give n =5, return 5+4+3+2+1\n",
    "def sum_i(n):\n",
    "    s = 0\n",
    "    for i in range(1,n+1):\n",
    "        s = s+i\n",
    "    return s\n",
    "\n",
    "def sum_r(n):\n",
    "    if n == 0:\n",
    "        return 0\n",
    "    else:\n",
    "        return n + sum_r(n-1)\n",
    "\n",
    "\n",
    "# sum_r(4) # 10\n",
    "# sum_i(5) # 15"
   ]
  },
  {
   "cell_type": "code",
   "execution_count": 10,
   "metadata": {},
   "outputs": [
    {
     "data": {
      "text/plain": [
       "'draw'"
      ]
     },
     "execution_count": 10,
     "metadata": {},
     "output_type": "execute_result"
    }
   ],
   "source": [
    "# 'ward'[::-1]\n",
    "def reverse_r(s):\n",
    "    assert len(s)>0\n",
    "    if len(s) ==1:\n",
    "        return s\n",
    "    else:\n",
    "        return reverse_r(s[1:]) + s[0]\n",
    "reverse_r('ward')\n"
   ]
  },
  {
   "cell_type": "code",
   "execution_count": 2,
   "metadata": {},
   "outputs": [
    {
     "name": "stdout",
     "output_type": "stream",
     "text": [
      "0 2\n",
      "1 8\n",
      "2 0\n",
      "3 9\n",
      "4 1\n",
      "5 2\n"
     ]
    }
   ],
   "source": [
    "t = 280912\n",
    "n = 3\n",
    "\n",
    "\n",
    "    \n",
    "\n"
   ]
  },
  {
   "cell_type": "markdown",
   "metadata": {},
   "source": [
    "## disc 04"
   ]
  },
  {
   "cell_type": "code",
   "execution_count": 1,
   "metadata": {},
   "outputs": [],
   "source": [
    "# disc 04\n",
    "\n",
    "# You want to go up a flight of stairs that has n steps. You can either take 1\n",
    "# or 2 steps each time. How many different ways can you go up this \n",
    "# flight of\n",
    "# stairs? Write a function count_stair_ways that solves this problem. Assume\n",
    "# n is positive.\n",
    "\n",
    "def count_stair_ways(n):\n",
    "    # base case: stairs only have 1 step or 2 steps\n",
    "    if n ==1:\n",
    "        return 1\n",
    "    elif n == 2:\n",
    "        return 2\n",
    "    else:\n",
    "        return count_stair_ways(n-1) + count_stair_ways(n-2)\n",
    "        # count_stair_ways(n-1) means the steps left if you have take 1 step\n",
    "        # count_stair_ways(n-2) means the steps left if you have take 2 step\n"
   ]
  },
  {
   "cell_type": "code",
   "execution_count": 3,
   "metadata": {},
   "outputs": [
    {
     "data": {
      "text/plain": [
       "3"
      ]
     },
     "execution_count": 3,
     "metadata": {},
     "output_type": "execute_result"
    }
   ],
   "source": [
    "count_stair_ways(3)"
   ]
  },
  {
   "cell_type": "code",
   "execution_count": 24,
   "metadata": {},
   "outputs": [],
   "source": [
    "# Tutorial: Consider a special version of the count_stairways problem,\n",
    "# where instead of taking 1 or 2 steps, we are able to take up to and including\n",
    "# k steps at a time.\n",
    "# Write a function count_k that figures out the number of paths for this sce-\n",
    "# nario. Assume n and k are positive.\t\n",
    "\n",
    "def count_k(n,k):\n",
    "\n",
    "    if n==0:\n",
    "        return 1\n",
    "    elif n<0:\n",
    "        return 0\n",
    "\n",
    "    else:\n",
    "        s = 0\n",
    "        for i in range(1,k+1):\n",
    "            s = s+count_k(n-i,k)\n",
    "            # print(i,s)\n",
    "        return s\n"
   ]
  },
  {
   "cell_type": "code",
   "execution_count": 26,
   "metadata": {},
   "outputs": [
    {
     "data": {
      "text/plain": [
       "1"
      ]
     },
     "execution_count": 26,
     "metadata": {},
     "output_type": "execute_result"
    }
   ],
   "source": [
    "count_k(300,1)"
   ]
  },
  {
   "cell_type": "code",
   "execution_count": 32,
   "metadata": {},
   "outputs": [
    {
     "data": {
      "text/plain": [
       "['bigelow', 'spielberg', 'jenkins']"
      ]
     },
     "execution_count": 32,
     "metadata": {},
     "output_type": "execute_result"
    }
   ],
   "source": [
    "['jenkins', 'spielberg', 'bigelow', 'kubrick'][2::-1]"
   ]
  },
  {
   "cell_type": "code",
   "execution_count": 42,
   "metadata": {},
   "outputs": [
    {
     "data": {
      "text/plain": [
       "[0, 6, 20]"
      ]
     },
     "execution_count": 42,
     "metadata": {},
     "output_type": "execute_result"
    }
   ],
   "source": [
    "def even_weighted(x):\n",
    "    # _ = []\n",
    "    # for i in range(len(x)):\n",
    "    #     if i%2==0:\n",
    "    #         _.append(x[i]*i)\n",
    "    # return _\n",
    "    return [x[i]*i for i in range(len(x)) if i%2==0]\n",
    "\n",
    "            \n",
    "even_weighted([1,2,3,4,5,6])\n",
    "    "
   ]
  },
  {
   "cell_type": "code",
   "execution_count": 43,
   "metadata": {},
   "outputs": [],
   "source": [
    "# Write a function that takes in a list and returns the maximum product that\n",
    "# can be formed using nonconsecutive elements of the list. The input list will\n",
    "# contain only numbers greater than or equal to 1.\n",
    "\n",
    "def max_product(s):\n",
    "    if len(s) ==0:\n",
    "        return 1\n",
    "    elif len(s) ==1:\n",
    "        return s[0]\n",
    "    else:\n",
    "        return max(max_product(s[1:]),\n",
    "                   s[0]*max_product(s[2:]))\n",
    "    \n"
   ]
  },
  {
   "cell_type": "code",
   "execution_count": 51,
   "metadata": {},
   "outputs": [
    {
     "data": {
      "text/plain": [
       "99"
      ]
     },
     "execution_count": 51,
     "metadata": {},
     "output_type": "execute_result"
    }
   ],
   "source": [
    "max_product([99,99,0,1])"
   ]
  },
  {
   "cell_type": "markdown",
   "metadata": {},
   "source": [
    "## draft for cats.py"
   ]
  },
  {
   "cell_type": "code",
   "execution_count": 55,
   "metadata": {},
   "outputs": [
    {
     "data": {
      "text/plain": [
       "1"
      ]
     },
     "execution_count": 55,
     "metadata": {},
     "output_type": "execute_result"
    }
   ],
   "source": [
    "# draft for cats.py\n",
    "#  cats\n",
    "# scats (add head s)\n",
    "# scat  (remove tail s)\n",
    "def add1(start, goal):\n",
    "    if start[0] != goal[0]:\n",
    "        if start[0] == goal[1]:\n",
    "            return 1\n",
    "        else:\n",
    "            return 0\n",
    "    else:\n",
    "        return 0\n",
    "\n",
    "def remove1(start,goal):\n",
    "    # scats\n",
    "    # cats\n",
    "    if start[0] != goal[0]:\n",
    "        if start[1] == goal[0]:\n",
    "            return 1\n",
    "        else:\n",
    "            return 0\n",
    "    else:\n",
    "        return 0\n",
    "\n",
    "\n"
   ]
  },
  {
   "cell_type": "code",
   "execution_count": 114,
   "metadata": {},
   "outputs": [],
   "source": [
    "import pandas as pd"
   ]
  },
  {
   "cell_type": "code",
   "execution_count": 146,
   "metadata": {},
   "outputs": [],
   "source": [
    "def editDistance_approxi(x, y, returnD=False):\n",
    "    # Create distance matrix\n",
    "    D = []\n",
    "    for i in range(len(x)+1):\n",
    "        D.append([0]*(len(y)+1))\n",
    "    # Initialize first row and column of matrix\n",
    "    for i in range(len(x)+1):\n",
    "        D[i][0] = i  # first col\n",
    "    for i in range(len(y)+1):\n",
    "        D[0][i] = i  # first row\n",
    "    \n",
    "    # Fill in the rest of the matrix\n",
    "    for i in range(1, len(x)+1):\n",
    "        for j in range(1, len(y)+1):\n",
    "            distHor = D[i][j-1] + 1  # skip from horizonal plus 1 (skip from p or x)\n",
    "            distVer = D[i-1][j] + 1  # skip from vertical plus 1 (skip from t or y)\n",
    "            if x[i-1] == y[j-1]:\n",
    "                distDiag = D[i-1][j-1]   # match then plus 0\n",
    "            else:\n",
    "                distDiag = D[i-1][j-1] + 1\n",
    "            D[i][j] = min(distHor, distVer, distDiag)  # not match then plus 1\n",
    "    # Edit distance is the value in the bottom right corner of the matrix\n",
    "    if returnD:\n",
    "        return D, min(D[-1])\n",
    "        # d = pd.DataFrame(D[0],index=['*']+[i for i in x],columns=[\"*\"]+[i for i in y])\n",
    "        # return d,min(D[-1])\n",
    "    else:\n",
    "        return min(D[-1])"
   ]
  },
  {
   "cell_type": "code",
   "execution_count": 163,
   "metadata": {},
   "outputs": [
    {
     "data": {
      "text/html": [
       "<div>\n",
       "<style scoped>\n",
       "    .dataframe tbody tr th:only-of-type {\n",
       "        vertical-align: middle;\n",
       "    }\n",
       "\n",
       "    .dataframe tbody tr th {\n",
       "        vertical-align: top;\n",
       "    }\n",
       "\n",
       "    .dataframe thead th {\n",
       "        text-align: right;\n",
       "    }\n",
       "</style>\n",
       "<table border=\"1\" class=\"dataframe\">\n",
       "  <thead>\n",
       "    <tr style=\"text-align: right;\">\n",
       "      <th></th>\n",
       "      <th>*</th>\n",
       "      <th>a</th>\n",
       "      <th>r</th>\n",
       "      <th>o</th>\n",
       "      <th>s</th>\n",
       "      <th>e</th>\n",
       "    </tr>\n",
       "  </thead>\n",
       "  <tbody>\n",
       "    <tr>\n",
       "      <th>*</th>\n",
       "      <td>0</td>\n",
       "      <td>1</td>\n",
       "      <td>2</td>\n",
       "      <td>3</td>\n",
       "      <td>4</td>\n",
       "      <td>5</td>\n",
       "    </tr>\n",
       "    <tr>\n",
       "      <th>r</th>\n",
       "      <td>1</td>\n",
       "      <td>1</td>\n",
       "      <td>1</td>\n",
       "      <td>2</td>\n",
       "      <td>3</td>\n",
       "      <td>4</td>\n",
       "    </tr>\n",
       "    <tr>\n",
       "      <th>o</th>\n",
       "      <td>2</td>\n",
       "      <td>2</td>\n",
       "      <td>2</td>\n",
       "      <td>1</td>\n",
       "      <td>2</td>\n",
       "      <td>3</td>\n",
       "    </tr>\n",
       "    <tr>\n",
       "      <th>s</th>\n",
       "      <td>3</td>\n",
       "      <td>3</td>\n",
       "      <td>3</td>\n",
       "      <td>2</td>\n",
       "      <td>1</td>\n",
       "      <td>2</td>\n",
       "    </tr>\n",
       "    <tr>\n",
       "      <th>e</th>\n",
       "      <td>4</td>\n",
       "      <td>4</td>\n",
       "      <td>4</td>\n",
       "      <td>3</td>\n",
       "      <td>2</td>\n",
       "      <td>1</td>\n",
       "    </tr>\n",
       "    <tr>\n",
       "      <th>s</th>\n",
       "      <td>5</td>\n",
       "      <td>5</td>\n",
       "      <td>5</td>\n",
       "      <td>4</td>\n",
       "      <td>3</td>\n",
       "      <td>2</td>\n",
       "    </tr>\n",
       "  </tbody>\n",
       "</table>\n",
       "</div>"
      ],
      "text/plain": [
       "   *  a  r  o  s  e\n",
       "*  0  1  2  3  4  5\n",
       "r  1  1  1  2  3  4\n",
       "o  2  2  2  1  2  3\n",
       "s  3  3  3  2  1  2\n",
       "e  4  4  4  3  2  1\n",
       "s  5  5  5  4  3  2"
      ]
     },
     "execution_count": 163,
     "metadata": {},
     "output_type": "execute_result"
    }
   ],
   "source": [
    "small_words_list = [\"spell\", \"nest\", \"test\", \"pest\", \"best\", \"bird\", \"wired\",\n",
    "                  \"abstraction\", \"abstract\", \"wire\", \"peeling\", \"gestate\",\n",
    "                  \"west\", \"spelling\", \"bastion\"]\n",
    "b = \"arose\"\n",
    "a = \"roses\"\n",
    "\n",
    "if len(a) >= len(b):\n",
    "    D,out = editDistance_approxi(a,b,returnD=True)\n",
    "    Df = pd.DataFrame(D,index=['*']+[i for i in a],columns=[\"*\"]+[i for i in b])\n",
    "else:\n",
    "    D,out = editDistance_approxi(b,a,returnD=True)\n",
    "    Df = pd.DataFrame(D,index=['*']+[i for i in b],columns=[\"*\"]+[i for i in a])\n",
    "\n",
    "Df\n",
    "#    wreat   \n",
    "#  place\n",
    "\n",
    "#    place\n",
    "#   wreat\n",
    "\n",
    "#  arose\n",
    "#   roses\n"
   ]
  },
  {
   "cell_type": "code",
   "execution_count": 151,
   "metadata": {},
   "outputs": [
    {
     "name": "stdout",
     "output_type": "stream",
     "text": [
      "0\n"
     ]
    }
   ],
   "source": [
    "print(out)"
   ]
  },
  {
   "cell_type": "code",
   "execution_count": 126,
   "metadata": {},
   "outputs": [
    {
     "data": {
      "text/html": [
       "<div>\n",
       "<style scoped>\n",
       "    .dataframe tbody tr th:only-of-type {\n",
       "        vertical-align: middle;\n",
       "    }\n",
       "\n",
       "    .dataframe tbody tr th {\n",
       "        vertical-align: top;\n",
       "    }\n",
       "\n",
       "    .dataframe thead th {\n",
       "        text-align: right;\n",
       "    }\n",
       "</style>\n",
       "<table border=\"1\" class=\"dataframe\">\n",
       "  <thead>\n",
       "    <tr style=\"text-align: right;\">\n",
       "      <th></th>\n",
       "      <th>*</th>\n",
       "      <th>w</th>\n",
       "      <th>r</th>\n",
       "      <th>e</th>\n",
       "      <th>a</th>\n",
       "      <th>t</th>\n",
       "    </tr>\n",
       "  </thead>\n",
       "  <tbody>\n",
       "    <tr>\n",
       "      <th>*</th>\n",
       "      <td>0</td>\n",
       "      <td>1</td>\n",
       "      <td>2</td>\n",
       "      <td>3</td>\n",
       "      <td>4</td>\n",
       "      <td>5</td>\n",
       "    </tr>\n",
       "    <tr>\n",
       "      <th>p</th>\n",
       "      <td>1</td>\n",
       "      <td>1</td>\n",
       "      <td>2</td>\n",
       "      <td>3</td>\n",
       "      <td>4</td>\n",
       "      <td>5</td>\n",
       "    </tr>\n",
       "    <tr>\n",
       "      <th>l</th>\n",
       "      <td>2</td>\n",
       "      <td>2</td>\n",
       "      <td>2</td>\n",
       "      <td>3</td>\n",
       "      <td>4</td>\n",
       "      <td>5</td>\n",
       "    </tr>\n",
       "    <tr>\n",
       "      <th>a</th>\n",
       "      <td>3</td>\n",
       "      <td>3</td>\n",
       "      <td>3</td>\n",
       "      <td>3</td>\n",
       "      <td>3</td>\n",
       "      <td>4</td>\n",
       "    </tr>\n",
       "  </tbody>\n",
       "</table>\n",
       "</div>"
      ],
      "text/plain": [
       "   *  w  r  e  a  t\n",
       "*  0  1  2  3  4  5\n",
       "p  1  1  2  3  4  5\n",
       "l  2  2  2  3  4  5\n",
       "a  3  3  3  3  3  4"
      ]
     },
     "execution_count": 126,
     "metadata": {},
     "output_type": "execute_result"
    }
   ],
   "source": [
    "import pandas as pd\n",
    "a = \"pla\"\n",
    "b = \"wreat\"\n",
    "\n"
   ]
  },
  {
   "cell_type": "code",
   "execution_count": null,
   "metadata": {},
   "outputs": [],
   "source": []
  },
  {
   "cell_type": "markdown",
   "metadata": {},
   "source": [
    "## trees"
   ]
  },
  {
   "cell_type": "code",
   "execution_count": 1,
   "metadata": {},
   "outputs": [],
   "source": [
    "## trees\n",
    "# https://www.youtube.com/watch?v=qFCJANh5ht8&list=PL6BsET-8jgYWjZJMtCKJCdEBGUg2wZEgd&index=5"
   ]
  },
  {
   "cell_type": "code",
   "execution_count": 2,
   "metadata": {},
   "outputs": [],
   "source": [
    "def tree(label, branches= []):\n",
    "    return [label] + branches\n",
    "\n",
    "def label(tree):\n",
    "    return tree[0]\n",
    "\n",
    "def branches(tree):\n",
    "    return tree[1:]\n",
    "\n",
    "def is_tree(tree):\n",
    "    if type(tree) != list or len(tree) < 1:\n",
    "        return False\n",
    "    for branch in branches(tree):\n",
    "        if not is_tree(branch):\n",
    "            return False\n",
    "    return True\n",
    "\n",
    "def is_leaf(tree):\n",
    "    # if len(tree) is 0 (empty), then branches(tree) would be a False value (empty list),\n",
    "    # so not False would be True, which is \"is leaf\"\n",
    "    return not branches(tree)"
   ]
  },
  {
   "cell_type": "code",
   "execution_count": 6,
   "metadata": {},
   "outputs": [
    {
     "data": {
      "text/plain": [
       "[1, 2, 5, 7]"
      ]
     },
     "execution_count": 6,
     "metadata": {},
     "output_type": "execute_result"
    }
   ],
   "source": [
    "tree(1,tree(2,tree(5,tree(7))))"
   ]
  },
  {
   "cell_type": "code",
   "execution_count": 7,
   "metadata": {},
   "outputs": [],
   "source": [
    "def fib_tree(n):\n",
    "    if n<=1:\n",
    "        return tree(n)\n",
    "    else:\n",
    "        left,right = fib_tree(n-2),fib_tree(n-1)\n",
    "        return tree(label=label(left)+label(right),branches=[left,right])"
   ]
  },
  {
   "cell_type": "code",
   "execution_count": 16,
   "metadata": {},
   "outputs": [
    {
     "data": {
      "text/plain": [
       "[[1], [1, [0], [1]]]"
      ]
     },
     "execution_count": 16,
     "metadata": {},
     "output_type": "execute_result"
    }
   ],
   "source": [
    "branches(fib_tree(3))\n",
    "#   3   [2, [1], [1, [0], [1]]]\n",
    "#  2 1  \n",
    "# 1 \n",
    "#   1 0  "
   ]
  },
  {
   "cell_type": "code",
   "execution_count": 17,
   "metadata": {},
   "outputs": [],
   "source": [
    "def count_leaves(t):\n",
    "    if is_leaf(t):\n",
    "        return 1\n",
    "    else:\n",
    "        return sum([count_leaves(b) for b in branches(t)])\n"
   ]
  },
  {
   "cell_type": "code",
   "execution_count": 21,
   "metadata": {},
   "outputs": [
    {
     "data": {
      "text/plain": [
       "[1, 0, 1, 0, 1, 1, 0, 1]"
      ]
     },
     "execution_count": 21,
     "metadata": {},
     "output_type": "execute_result"
    }
   ],
   "source": [
    "def leaves(tree):\n",
    "    if is_leaf(tree):\n",
    "        return [label(tree)]\n",
    "    else:\n",
    "        return sum([leaves(b) for b in branches(tree)],[])\n",
    "leaves(fib_tree(5))"
   ]
  },
  {
   "cell_type": "code",
   "execution_count": 28,
   "metadata": {},
   "outputs": [
    {
     "name": "stdout",
     "output_type": "stream",
     "text": [
      "3\n",
      "  1\n",
      "    0\n",
      "    1\n",
      "  2\n",
      "    1\n",
      "    1\n",
      "      0\n",
      "      1\n"
     ]
    }
   ],
   "source": [
    "def print_tree(t,indent=0):\n",
    "    print('  '* indent + str(label(t)))\n",
    "    for b in branches(t):\n",
    "        print_tree(b,indent+1)\n",
    "print_tree(fib_tree(4))"
   ]
  },
  {
   "cell_type": "code",
   "execution_count": 29,
   "metadata": {},
   "outputs": [],
   "source": [
    "def print_sums(t,so_far=0):\n",
    "    so_far = so_far + label(t)\n",
    "    if is_leaf(t):\n",
    "        print(so_far)\n",
    "    else:\n",
    "        for b in branches(t):\n",
    "            print_sums(b,so_far)\n"
   ]
  },
  {
   "cell_type": "code",
   "execution_count": 32,
   "metadata": {},
   "outputs": [
    {
     "name": "stdout",
     "output_type": "stream",
     "text": [
      "has\n",
      "hat\n",
      "he\n"
     ]
    }
   ],
   "source": [
    "numbers = tree(3,[tree(4),tree(5,tree(6))])\n",
    "strs = tree('h',[tree('a',\n",
    "                        [tree('s'),\n",
    "                        tree('t')]),\n",
    "                 tree('e')])\n",
    "\n",
    "print_sums(strs,'')"
   ]
  },
  {
   "cell_type": "code",
   "execution_count": null,
   "metadata": {},
   "outputs": [],
   "source": []
  },
  {
   "cell_type": "markdown",
   "metadata": {},
   "source": [
    "## lab 5 draft"
   ]
  },
  {
   "cell_type": "code",
   "execution_count": 38,
   "metadata": {},
   "outputs": [
    {
     "data": {
      "text/plain": [
       "['leaf', 'berry', 'branch2']"
      ]
     },
     "execution_count": 38,
     "metadata": {},
     "output_type": "execute_result"
    }
   ],
   "source": [
    "sproul = tree('roots', [tree('branch1', [tree('leaf'), tree('berry')]), tree('branch2')])\n",
    "# print_tree(sproul)\n",
    "leaves(sproul)"
   ]
  },
  {
   "cell_type": "code",
   "execution_count": 82,
   "metadata": {},
   "outputs": [
    {
     "data": {
      "text/plain": [
       "True"
      ]
     },
     "execution_count": 82,
     "metadata": {},
     "output_type": "execute_result"
    }
   ],
   "source": [
    "def berry_finder(s):\n",
    "    if is_leaf(s):\n",
    "        if 'berry' in str(label(s)):\n",
    "            return True\n",
    "        else:\n",
    "            return False\n",
    "    else:\n",
    "        return bool(sum([berry_finder(b) for b in branches(s)]))\n",
    "\n",
    "t = tree(1, [tree('r',[tree('not berry')])])\n",
    "numbers = tree(1, [tree(2), tree(3, [tree(4), tree(5)]), tree(6, [tree(7)])])\n",
    "sproul = tree('roots', [tree('branch1', [tree('leaf'), tree('berry')]), tree('branch2')])\n",
    "berry_finder(t)"
   ]
  },
  {
   "cell_type": "code",
   "execution_count": 79,
   "metadata": {},
   "outputs": [
    {
     "data": {
      "text/plain": [
       "True"
      ]
     },
     "execution_count": 79,
     "metadata": {},
     "output_type": "execute_result"
    }
   ],
   "source": [
    "bool(sum([True,False,True]))"
   ]
  },
  {
   "cell_type": "code",
   "execution_count": 107,
   "metadata": {},
   "outputs": [
    {
     "name": "stdout",
     "output_type": "stream",
     "text": [
      "[1, [2, [3]]]\n",
      "1\n",
      "  2\n",
      "    3\n"
     ]
    }
   ],
   "source": [
    "t1 = tree(1,[tree(2),tree(3)])\n",
    "t2 = tree(1, [tree(2, [tree(3)])])\n",
    "t3 = tree(1, [tree(2, [tree(3,[tree(4),tree(5),tree(6)])])])\n",
    "# print_tree(t2)\n",
    "print(t2)\n",
    "print_tree(t2)"
   ]
  },
  {
   "cell_type": "code",
   "execution_count": 117,
   "metadata": {},
   "outputs": [],
   "source": [
    "def leaves(tree):\n",
    "    if is_leaf(tree):\n",
    "        return [label(tree)]\n",
    "    else:\n",
    "        return sum([leaves(b) for b in branches(tree)],[])\n",
    "\n",
    "\n",
    "\n",
    "def sprout_leaves(t,leaves):\n",
    "    if is_leaf(t):\n",
    "        return tree(label(t),branches=[tree(i) for i in leaves])\n",
    "    else:\n",
    "        return tree(label=label(t),branches=[sprout_leaves(b,leaves) for b in branches(t)])\n",
    "\n",
    "# t= tree(4,[tree(4),tree(5)])\n",
    "# print(t)\n",
    "# print_tree(t)\n",
    "# print_tree(tree(label=4,branches=[tree(4),tree(5)]))\n",
    "# print_tree(sprout_leaves(tree(4),[5,6]))\n",
    "    "
   ]
  },
  {
   "cell_type": "code",
   "execution_count": 119,
   "metadata": {},
   "outputs": [
    {
     "name": "stdout",
     "output_type": "stream",
     "text": [
      "4\n",
      "  3\n",
      "    5\n",
      "    8\n",
      "4\n",
      "  3\n",
      "    5\n",
      "      5\n",
      "      6\n",
      "    8\n",
      "      5\n",
      "      6\n"
     ]
    }
   ],
   "source": [
    "t = tree(4,[tree(3,[tree(5),tree(8)])])\n",
    "print_tree(t)\n",
    "print_tree(sprout_leaves(t,[5,6]))"
   ]
  },
  {
   "cell_type": "code",
   "execution_count": null,
   "metadata": {},
   "outputs": [],
   "source": [
    "# riffle\n",
    "# riffle(range(20))\n",
    "# [0, 10, 1, 11, 2, 12, 3, 13, 4, 14, 5, 15, 6, 16, 7, 17, 8, 18, 9, 19]"
   ]
  },
  {
   "cell_type": "code",
   "execution_count": 122,
   "metadata": {},
   "outputs": [
    {
     "name": "stdout",
     "output_type": "stream",
     "text": [
      "{0: 0, 1: 1, 2: 2, 3: 3, 4: 4, 5: 5, 6: 6, 7: 7, 8: 8, 9: 9, 10: 10, 11: 11, 12: 12, 13: 13, 14: 14, 15: 15, 16: 16, 17: 17, 18: 18, 19: 19}\n",
      "{0: 0, 1: 10, 2: 1, 3: 11, 4: 2, 5: 12, 6: 3, 7: 13, 8: 4, 9: 14, 10: 5, 11: 15, 12: 6, 13: 16, 14: 7, 15: 17, 16: 8, 17: 18, 18: 9, 19: 19}\n"
     ]
    }
   ],
   "source": [
    "t = list(range(20))\n",
    "o = [0, 10, 1, 11, 2, 12, 3, 13, 4, 14, 5, 15, 6, 16, 7, 17, 8, 18, 9, 19]\n",
    "\n",
    "t = {i:v for i,v in  enumerate(t)}\n",
    "o = {i:v for i,v in enumerate(o)}\n",
    "print(t)\n",
    "print(o)"
   ]
  },
  {
   "cell_type": "code",
   "execution_count": 123,
   "metadata": {},
   "outputs": [
    {
     "data": {
      "text/plain": [
       "[0, 1, 2, 3, 4, 5, 6, 7, 8, 9, 10, 11, 12, 13, 14, 15, 16, 17, 18, 19]"
      ]
     },
     "execution_count": 123,
     "metadata": {},
     "output_type": "execute_result"
    }
   ],
   "source": [
    "t = list(range(20))\n",
    "t"
   ]
  },
  {
   "cell_type": "code",
   "execution_count": null,
   "metadata": {},
   "outputs": [],
   "source": [
    "[i for ii,i in enumerate(t)]"
   ]
  },
  {
   "cell_type": "code",
   "execution_count": 138,
   "metadata": {},
   "outputs": [
    {
     "name": "stdout",
     "output_type": "stream",
     "text": [
      "[0, 1, 2, 3, 4, 5, 6, 7, 8, 9, 10, 11, 12, 13, 14, 15, 16, 17, 18, 19]\n",
      "[0, 1, 0, 1, 0, 1, 0, 1, 0, 1, 0, 1, 0, 1, 0, 1, 0, 1, 0, 1]\n"
     ]
    }
   ],
   "source": [
    "print(t)\n",
    "print([ii%2 for ii,i in enumerate(t)])"
   ]
  },
  {
   "cell_type": "code",
   "execution_count": 150,
   "metadata": {},
   "outputs": [
    {
     "name": "stdout",
     "output_type": "stream",
     "text": [
      "[0, 2, 4, 6, 8, 10, 12, 14, 16, 18] [1, 3, 5, 7, 9, 11, 13, 15, 17, 19]\n"
     ]
    },
    {
     "data": {
      "text/plain": [
       "[0, 10, 1, 11, 2, 12, 3, 13, 4, 14, 5, 15, 6, 16, 7, 17, 8, 18, 9, 19]"
      ]
     },
     "execution_count": 150,
     "metadata": {},
     "output_type": "execute_result"
    }
   ],
   "source": [
    "# [ii%2 for ii,i in enumerate(t)]\n",
    "o = [0]*len(t)\n",
    "h1 = [ii for ii,i in enumerate(t) if ii%2==0]\n",
    "h2 = [ii for ii,i in enumerate(t) if ii%2==1]\n",
    "\n",
    "print(h1,h2)\n",
    "\n",
    "for ii in h1:\n",
    "    o[ii] = t[int(ii/2)]\n",
    "\n",
    "for ii in h2:\n",
    "    o[ii] = t[int(len(t)/2+ii/2)]\n",
    "\n",
    "# list comprehension\n",
    "o = [t[int(ii/2)] if ii%2==0 else t[int(len(t)/2+ii/2)] for ii,i in enumerate(t)]\n",
    "o\n"
   ]
  },
  {
   "cell_type": "code",
   "execution_count": 158,
   "metadata": {},
   "outputs": [
    {
     "name": "stdout",
     "output_type": "stream",
     "text": [
      "1\n",
      "  3\n",
      "    4\n",
      "2\n",
      "  3\n",
      "  5\n"
     ]
    }
   ],
   "source": [
    "t1 = tree(1,[tree(3,[tree(4)])])\n",
    "t2 = tree(2,[tree(3),tree(5)])\n",
    "print_tree(t1)\n",
    "print_tree(t2)"
   ]
  },
  {
   "cell_type": "code",
   "execution_count": 153,
   "metadata": {},
   "outputs": [
    {
     "data": {
      "text/plain": [
       "[2, [3]]"
      ]
     },
     "execution_count": 153,
     "metadata": {},
     "output_type": "execute_result"
    }
   ],
   "source": [
    "t2"
   ]
  },
  {
   "cell_type": "code",
   "execution_count": 154,
   "metadata": {},
   "outputs": [
    {
     "data": {
      "text/plain": [
       "[2, [3], 3, 4]"
      ]
     },
     "execution_count": 154,
     "metadata": {},
     "output_type": "execute_result"
    }
   ],
   "source": [
    "[2, [3]] + [3,4]"
   ]
  },
  {
   "cell_type": "code",
   "execution_count": 167,
   "metadata": {},
   "outputs": [
    {
     "name": "stdout",
     "output_type": "stream",
     "text": [
      "[1, [3, [4]]]\n",
      "[2, [3], [5]]\n",
      "1\n",
      "  3\n",
      "    4\n",
      "2\n",
      "  3\n",
      "  5\n"
     ]
    }
   ],
   "source": [
    "print(t1)\n",
    "print(t2)\n",
    "print_tree(t1)\n",
    "print_tree(t2)"
   ]
  },
  {
   "cell_type": "code",
   "execution_count": 194,
   "metadata": {},
   "outputs": [
    {
     "name": "stdout",
     "output_type": "stream",
     "text": [
      "[2, [3, [4], [5]]]\n",
      "[2, [3, [4]], [5]]\n",
      "2\n",
      "  3\n",
      "    4\n",
      "    5\n",
      "2\n",
      "  3\n",
      "    4\n",
      "  5\n"
     ]
    }
   ],
   "source": [
    "t1 = tree(2, [tree(3, [tree(4), tree(5)])])\n",
    "t2 = tree(2, [tree(3, [tree(4)]), tree(5)])\n",
    "print(t1)\n",
    "print(t2)\n",
    "print_tree(t1)\n",
    "print_tree(t2)"
   ]
  },
  {
   "cell_type": "code",
   "execution_count": 173,
   "metadata": {},
   "outputs": [
    {
     "name": "stdout",
     "output_type": "stream",
     "text": [
      "(3, 3)\n",
      "([4], [4])\n"
     ]
    }
   ],
   "source": [
    "for i in zip([3, [4], [5]], [3, [4]]):\n",
    "    print(i)\n",
    "    "
   ]
  },
  {
   "cell_type": "code",
   "execution_count": 222,
   "metadata": {},
   "outputs": [],
   "source": [
    "def add_tree(t1,t2):\n",
    "    b1 = branches(t1)\n",
    "    b2 = branches(t2)\n",
    "    if is_leaf(t1) + is_leaf(t2) >=1:\n",
    "        return tree(label=label(t1)+label(t2),\n",
    "                    branches=branches(t1)+branches(t2))\n",
    "\n",
    "    else:\n",
    "        branches_overlap = [add_tree(i[0],i[1]) for i in zip(b1,b2)]\n",
    "        if len(b1) < len(b2):\n",
    "            branches_unique = b2[len(b1):]\n",
    "        elif len(b2) < len(b1):\n",
    "            branches_unique = b1[len(b2):]\n",
    "        return tree(label=label(t1)+label(t2),\n",
    "                    branches= branches_overlap+branches_unique)\n",
    "\n",
    "            \n",
    "        "
   ]
  },
  {
   "cell_type": "code",
   "execution_count": 223,
   "metadata": {},
   "outputs": [
    {
     "name": "stdout",
     "output_type": "stream",
     "text": [
      "2\n",
      "  3\n",
      "    4\n",
      "    5\n",
      "2\n",
      "  3\n",
      "    4\n",
      "  5\n"
     ]
    }
   ],
   "source": [
    "# add_tree(tree(3),tree(3,[tree(4)]))\n",
    "print_tree(t1)\n",
    "print_tree(t2)"
   ]
  },
  {
   "cell_type": "code",
   "execution_count": 224,
   "metadata": {},
   "outputs": [
    {
     "name": "stdout",
     "output_type": "stream",
     "text": [
      "4\n",
      "  6\n",
      "    8\n",
      "    5\n",
      "  5\n"
     ]
    }
   ],
   "source": [
    "print_tree(add_tree(t1,t2))"
   ]
  },
  {
   "cell_type": "code",
   "execution_count": 231,
   "metadata": {},
   "outputs": [],
   "source": [
    "def build_successors_table(tokens):\n",
    "    table = {}\n",
    "\n",
    "    for i in range(len(tokens)-1):\n",
    "        word = tokens[i]\n",
    "        if word not in table:\n",
    "            table[word] = [tokens[i+1]]\n",
    "        else:\n",
    "            table[word].append(tokens[i+1])\n",
    "\n",
    "    table['.'] = [tokens[0]]\n",
    "    return table"
   ]
  },
  {
   "cell_type": "code",
   "execution_count": 232,
   "metadata": {},
   "outputs": [
    {
     "data": {
      "text/plain": [
       "{'We': ['came'],\n",
       " 'came': ['to'],\n",
       " 'to': ['investigate', 'eat'],\n",
       " 'investigate': [','],\n",
       " ',': ['catch'],\n",
       " 'catch': ['bad'],\n",
       " 'bad': ['guys'],\n",
       " 'guys': ['and'],\n",
       " 'and': ['to'],\n",
       " 'eat': ['pie'],\n",
       " 'pie': ['.'],\n",
       " '.': 'We'}"
      ]
     },
     "execution_count": 232,
     "metadata": {},
     "output_type": "execute_result"
    }
   ],
   "source": [
    "text = ['We', 'came', 'to', 'investigate', ',', 'catch', 'bad', 'guys', 'and', 'to', 'eat', 'pie', '.']\n",
    "table = build_successors_table(text)\n",
    "table"
   ]
  },
  {
   "cell_type": "code",
   "execution_count": 249,
   "metadata": {},
   "outputs": [],
   "source": [
    "import random\n",
    "def construct_sent(word,table):\n",
    "    result = ''\n",
    "    while word not in ['.', '!', '?']:\n",
    "        result = ' '.join([result,word])\n",
    "        word = random.choice(table[word])\n",
    "        \n",
    "    return result.strip() + word"
   ]
  },
  {
   "cell_type": "code",
   "execution_count": 250,
   "metadata": {},
   "outputs": [
    {
     "data": {
      "text/plain": [
       "'Sentences are cool.'"
      ]
     },
     "execution_count": 250,
     "metadata": {},
     "output_type": "execute_result"
    }
   ],
   "source": [
    "table = {'Wow': ['!'], 'Sentences': ['are'], 'are': ['cool'], 'cool': ['.']}\n",
    "construct_sent('Sentences',table)"
   ]
  },
  {
   "cell_type": "code",
   "execution_count": 251,
   "metadata": {},
   "outputs": [],
   "source": [
    "def shakespeare_tokens(path='shakespeare.txt', url='http://composingprograms.com/shakespeare.txt'):\n",
    "    \"\"\"Return the words of Shakespeare's plays as a list.\"\"\"\n",
    "    import os\n",
    "    from urllib.request import urlopen\n",
    "    if os.path.exists(path):\n",
    "        return open(path, encoding='ascii').read().split()\n",
    "    else:\n",
    "        shakespeare = urlopen(url)\n",
    "        return shakespeare.read().decode(encoding='ascii').split()\n",
    "\n"
   ]
  },
  {
   "cell_type": "code",
   "execution_count": 252,
   "metadata": {},
   "outputs": [],
   "source": [
    "tokens = shakespeare_tokens()\n",
    "table = build_successors_table(tokens)"
   ]
  },
  {
   "cell_type": "code",
   "execution_count": 259,
   "metadata": {},
   "outputs": [
    {
     "data": {
      "text/plain": [
       "['swarming', ';', ',', 'would', ':', 'If', 'have', ',']"
      ]
     },
     "execution_count": 259,
     "metadata": {},
     "output_type": "execute_result"
    }
   ],
   "source": [
    "table['plebeians']"
   ]
  },
  {
   "cell_type": "code",
   "execution_count": 261,
   "metadata": {},
   "outputs": [
    {
     "data": {
      "text/plain": [
       "'The manner of falsehood!'"
      ]
     },
     "execution_count": 261,
     "metadata": {},
     "output_type": "execute_result"
    }
   ],
   "source": [
    "construct_sent('The',table)\n",
    "# Wowwwww"
   ]
  },
  {
   "cell_type": "code",
   "execution_count": 262,
   "metadata": {},
   "outputs": [
    {
     "data": {
      "text/plain": [
       "'A mother : but I have given way given the top to : The valiant race of my thoughts.'"
      ]
     },
     "execution_count": 262,
     "metadata": {},
     "output_type": "execute_result"
    }
   ],
   "source": [
    "construct_sent(random.choice(table['.']),table)\n",
    "# 好玩"
   ]
  },
  {
   "cell_type": "code",
   "execution_count": null,
   "metadata": {},
   "outputs": [],
   "source": []
  },
  {
   "cell_type": "code",
   "execution_count": null,
   "metadata": {},
   "outputs": [],
   "source": []
  },
  {
   "cell_type": "code",
   "execution_count": null,
   "metadata": {},
   "outputs": [],
   "source": []
  }
 ],
 "metadata": {
  "interpreter": {
   "hash": "483ff14553254d47bb5ca00f7784335c916df64575b78231826ea105d8b3c56b"
  },
  "kernelspec": {
   "display_name": "Python 3.8.5 ('ccss')",
   "language": "python",
   "name": "python3"
  },
  "language_info": {
   "codemirror_mode": {
    "name": "ipython",
    "version": 3
   },
   "file_extension": ".py",
   "mimetype": "text/x-python",
   "name": "python",
   "nbconvert_exporter": "python",
   "pygments_lexer": "ipython3",
   "version": "3.8.5"
  },
  "orig_nbformat": 4
 },
 "nbformat": 4,
 "nbformat_minor": 2
}
