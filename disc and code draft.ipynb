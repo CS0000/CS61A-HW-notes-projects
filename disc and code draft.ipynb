{
 "cells": [
  {
   "cell_type": "code",
   "execution_count": 14,
   "metadata": {},
   "outputs": [],
   "source": [
    "#### it's a draft notebook ####"
   ]
  },
  {
   "cell_type": "code",
   "execution_count": 12,
   "metadata": {},
   "outputs": [],
   "source": [
    "# environments for higher order function\n",
    "# https://www.youtube.com/watch?v=3Zi0kxmoMtA&list=PL6BsET-8jgYXhzd5ou1faNsWVoWBRUY8q&index=3\n",
    "def repeat(f,x):\n",
    "    # repeat f(x) until f(x) == x\n",
    "    print(f\"x = {x}\")\n",
    "    print(f\"assgin x to (x+5) // 3 until x = (x+5) // 3\")\n",
    "    print()\n",
    "    while f(x) !=x:\n",
    "        print(f\"(x+5) // 3 != x is True\")\n",
    "        print(f\"assgin x to ({x}+5) // 3\")\n",
    "        x = f(x)\n",
    "        print(f\"x = {x}\")\n",
    "    print(f\"(x+5) // 3 != x is False\")\n",
    "    print(f\"x = {x}\")\n",
    "    return x\n",
    "\n",
    "def g(y):\n",
    "    return (y+5) // 3"
   ]
  },
  {
   "cell_type": "code",
   "execution_count": 13,
   "metadata": {},
   "outputs": [
    {
     "name": "stdout",
     "output_type": "stream",
     "text": [
      "x = 5\n",
      "assgin x to (x+5) // 3 until x = (x+5) // 3\n",
      "\n",
      "(x+5) // 3 != x is True\n",
      "assgin x to (5+5) // 3\n",
      "x = 3\n",
      "(x+5) // 3 != x is True\n",
      "assgin x to (3+5) // 3\n",
      "x = 2\n",
      "(x+5) // 3 != x is False\n",
      "x = 2\n"
     ]
    }
   ],
   "source": [
    "result = repeat(g,5)"
   ]
  },
  {
   "cell_type": "code",
   "execution_count": 15,
   "metadata": {},
   "outputs": [],
   "source": [
    "# Nested definition\n",
    "# https://www.youtube.com/watch?v=qLZhkM45Jtc&list=PL6BsET-8jgYXhzd5ou1faNsWVoWBRUY8q&index=4\n",
    "def make_adder(n):\n",
    "    def adder(k):\n",
    "        return k+n\n",
    "    return adder"
   ]
  },
  {
   "cell_type": "code",
   "execution_count": 17,
   "metadata": {},
   "outputs": [
    {
     "data": {
      "text/plain": [
       "7"
      ]
     },
     "execution_count": 17,
     "metadata": {},
     "output_type": "execute_result"
    }
   ],
   "source": [
    "make_adder(3)(4) # make_adder(3) is a function, which will add its \"inner\" para with 4"
   ]
  },
  {
   "cell_type": "code",
   "execution_count": null,
   "metadata": {},
   "outputs": [],
   "source": [
    "# local names\n",
    "# https://www.youtube.com/watch?v=1Y4eemG0hzk&list=PL6BsET-8jgYXhzd5ou1faNsWVoWBRUY8q&index=5\n",
    "def f(x,y):\n",
    "    return g(x)\n",
    "\n",
    "def g(a):\n",
    "    return a + y  # y is not defined in g(a) environment,even though it's defined in f(x,y)\n",
    "# result = f(1,2) this will cause error\n",
    "\n",
    "\n",
    "def f(x,y):\n",
    "    def g(a):\n",
    "        return a+y # now g(a) is in the f(x,y) environment, f is g's parent\n",
    "        # it's a nested defined function\n",
    "    return g(x)\n",
    "# result = f(1,2)  this will be ok"
   ]
  },
  {
   "cell_type": "code",
   "execution_count": 18,
   "metadata": {},
   "outputs": [
    {
     "data": {
      "text/plain": [
       "3"
      ]
     },
     "execution_count": 18,
     "metadata": {},
     "output_type": "execute_result"
    }
   ],
   "source": [
    "def f(x,y):\n",
    "    def g(a):\n",
    "        return a+y\n",
    "    return g(x)\n",
    "f(1,2)"
   ]
  },
  {
   "cell_type": "code",
   "execution_count": 25,
   "metadata": {},
   "outputs": [],
   "source": [
    "# self-reference\n",
    "# https://www.youtube.com/watch?v=31EDjrN1x5k&list=PL6BsET-8jgYXhzd5ou1faNsWVoWBRUY8q&index=8\n",
    "def print_sums(x):\n",
    "    print(f\"x = {x}\")\n",
    "    # print_sums's para x is used to store the sum of all the passed arguements\n",
    "    print(f\"in print_sums({x})\")\n",
    "    def next_sum(y):\n",
    "        print(f\"in next_sum({y})\")\n",
    "        print(f\"y={y}\")\n",
    "        print(f\"print_sums({x}+{y})\")\n",
    "        return print_sums(x+y)\n",
    "        \n",
    "    return next_sum"
   ]
  },
  {
   "cell_type": "code",
   "execution_count": 26,
   "metadata": {},
   "outputs": [
    {
     "name": "stdout",
     "output_type": "stream",
     "text": [
      "x = 1\n",
      "in print_sums(1)\n",
      "in next_sum(2)\n",
      "y=2\n",
      "print_sums(1+2)\n",
      "x = 3\n",
      "in print_sums(3)\n",
      "in next_sum(3)\n",
      "y=3\n",
      "print_sums(3+3)\n",
      "x = 6\n",
      "in print_sums(6)\n"
     ]
    },
    {
     "data": {
      "text/plain": [
       "<function __main__.print_sums.<locals>.next_sum(y)>"
      ]
     },
     "execution_count": 26,
     "metadata": {},
     "output_type": "execute_result"
    }
   ],
   "source": [
    "print_sums(1)(2)(3)\n",
    "# print_sums(1) is a function, take 2 as para,\n",
    "# return a function that take 1+2 as para and print its para also"
   ]
  },
  {
   "cell_type": "code",
   "execution_count": 27,
   "metadata": {},
   "outputs": [
    {
     "name": "stdout",
     "output_type": "stream",
     "text": [
      "beets\n"
     ]
    }
   ],
   "source": [
    "# lab 2 Q2 WWPD: higher order functions\n",
    "def cake():\n",
    "    print('beets')\n",
    "    def pie():\n",
    "        print('sweets')\n",
    "        return 'cake'\n",
    "    return pie\n",
    "\n",
    "chocolate = cake()"
   ]
  },
  {
   "cell_type": "code",
   "execution_count": 28,
   "metadata": {},
   "outputs": [
    {
     "name": "stdout",
     "output_type": "stream",
     "text": [
      "sweets\n"
     ]
    },
    {
     "data": {
      "text/plain": [
       "'cake'"
      ]
     },
     "execution_count": 28,
     "metadata": {},
     "output_type": "execute_result"
    }
   ],
   "source": [
    "chocolate()"
   ]
  },
  {
   "cell_type": "code",
   "execution_count": 34,
   "metadata": {},
   "outputs": [
    {
     "name": "stdout",
     "output_type": "stream",
     "text": [
      "beets\n",
      "sweets\n"
     ]
    }
   ],
   "source": [
    "def cake():\n",
    "    print('beets')\n",
    "    def pie():\n",
    "        print('sweets')\n",
    "        return 'cake'\n",
    "    return pie\n",
    "chocolate = cake()\n",
    "more_chocolate, more_cake = chocolate(), cake\n",
    "\n",
    "def snake(x,y):\n",
    "    if cake == more_cake:\n",
    "        return chocolate\n",
    "    else:\n",
    "        return x+y\n"
   ]
  },
  {
   "cell_type": "code",
   "execution_count": 38,
   "metadata": {},
   "outputs": [
    {
     "data": {
      "text/plain": [
       "30"
      ]
     },
     "execution_count": 38,
     "metadata": {},
     "output_type": "execute_result"
    }
   ],
   "source": [
    "cake = 'cake'\n",
    "snake(10,20)"
   ]
  },
  {
   "cell_type": "code",
   "execution_count": 40,
   "metadata": {},
   "outputs": [
    {
     "name": "stdout",
     "output_type": "stream",
     "text": [
      "2\n",
      "4\n"
     ]
    }
   ],
   "source": [
    "# Currying example\n",
    "def keep_ints(cond,n):\n",
    "    for i in range(1,n+1):\n",
    "        if cond(i):\n",
    "            print(i)\n",
    "            \n",
    "\n",
    "def is_even(x):\n",
    "    return x%2==0\n",
    "\n",
    "keep_ints(is_even,5)"
   ]
  },
  {
   "cell_type": "code",
   "execution_count": 41,
   "metadata": {},
   "outputs": [
    {
     "name": "stdout",
     "output_type": "stream",
     "text": [
      "2\n",
      "4\n"
     ]
    }
   ],
   "source": [
    "# Currying example\n",
    "def make_keeper(n):\n",
    "    def f(cond):\n",
    "        for i in range(1,n+1):\n",
    "            if cond(i):\n",
    "                print(i)\n",
    "    return f\n",
    "\n",
    "make_keeper(5)(is_even)"
   ]
  },
  {
   "cell_type": "code",
   "execution_count": 47,
   "metadata": {},
   "outputs": [
    {
     "name": "stdout",
     "output_type": "stream",
     "text": [
      "1\n"
     ]
    }
   ],
   "source": [
    "# self-reference example\n",
    "def print_delayed(x):\n",
    "    def f(y):\n",
    "        print(x)\n",
    "        return print_delayed(y)\n",
    "    return f\n",
    "\n",
    "f = print_delayed(1)\n",
    "f = f(2)"
   ]
  },
  {
   "cell_type": "code",
   "execution_count": 49,
   "metadata": {},
   "outputs": [
    {
     "name": "stdout",
     "output_type": "stream",
     "text": [
      "3\n",
      "4\n"
     ]
    }
   ],
   "source": [
    "# f = f(3)\n",
    "f = f(4)(5)"
   ]
  },
  {
   "cell_type": "code",
   "execution_count": 64,
   "metadata": {},
   "outputs": [],
   "source": [
    "# lnhn algorithm\n",
    "def split(n):\n",
    "    return n//10, n%10\n",
    "\n",
    "def sum_digits(n):\n",
    "    # n: 1234 --> 1+2+3+4 = 10\n",
    "    if n<10:\n",
    "        return n\n",
    "    else:\n",
    "        all_but_last, last = split(n)\n",
    "        return sum_digits(all_but_last) + last\n",
    "\n",
    "def luhn_sum(n):\n",
    "    print(f\"we are in luhn_sum now\")\n",
    "    if n<10:\n",
    "        print(f\"n<10, n = {n}\")\n",
    "        return n\n",
    "    else:\n",
    "        print(f\"n>10\")\n",
    "        all_but_last, last = split(n)\n",
    "        print(f\"split(n) to all_but_last: {all_but_last}, last: {last}\")\n",
    "        return luhn_sum_double(all_but_last) + last\n",
    "\n",
    "def luhn_sum_double(n):\n",
    "    print(f\"we are in luhn_sum_double now\")\n",
    "    all_but_last, last = split(n)\n",
    "    luhn_digit = sum_digits(2 * last)\n",
    "    if n<10:\n",
    "        print(f\"n<10, n = {n}\")\n",
    "        return luhn_digit\n",
    "    else:\n",
    "        print(f\"n>10\")\n",
    "        print(f\"all_but_last: {all_but_last}, last: {last}, luhn_digit: {luhn_digit}\")\n",
    "        return luhn_sum(all_but_last) + luhn_digit"
   ]
  },
  {
   "cell_type": "code",
   "execution_count": 66,
   "metadata": {},
   "outputs": [
    {
     "name": "stdout",
     "output_type": "stream",
     "text": [
      "we are in luhn_sum_double now\n",
      "n>10\n",
      "all_but_last: 1234, last: 5, luhn_digit: 1\n",
      "we are in luhn_sum now\n",
      "n>10\n",
      "split(n) to all_but_last: 123, last: 4\n",
      "we are in luhn_sum_double now\n",
      "n>10\n",
      "all_but_last: 12, last: 3, luhn_digit: 6\n",
      "we are in luhn_sum now\n",
      "n>10\n",
      "split(n) to all_but_last: 1, last: 2\n",
      "we are in luhn_sum_double now\n",
      "n<10, n = 1\n"
     ]
    },
    {
     "data": {
      "text/plain": [
       "15"
      ]
     },
     "execution_count": 66,
     "metadata": {},
     "output_type": "execute_result"
    }
   ],
   "source": [
    "luhn_sum_double(12345)"
   ]
  },
  {
   "cell_type": "code",
   "execution_count": 71,
   "metadata": {},
   "outputs": [],
   "source": [
    "# iteration & recursion\n",
    "def sum_digits_iter(n):\n",
    "    digit_sum = 0\n",
    "    while n>0:\n",
    "        print(f\"n = {n}\")\n",
    "        n,last = split(n)\n",
    "        print(f\"split(n) into a new n {n} and last {last}\")\n",
    "        digit_sum = digit_sum + last\n",
    "        print(f\"digit_sum = digit_sum {digit_sum} + last {last}\")\n",
    "    return digit_sum\n",
    "\n",
    "def sum_digits_rec(n,digit_sum):\n",
    "    if n==0:\n",
    "        print(f\"n=0 digit_sum={digit_sum}\")\n",
    "        return digit_sum\n",
    "    else:\n",
    "        n,last = split(n)\n",
    "        print(f\"n!=0\")\n",
    "        print(f\"split(n) into a new n {n} and last {last}\")\n",
    "        print(f\"digit_sum + last = {digit_sum} + {last}\")\n",
    "        return sum_digits_rec(n,digit_sum+last)"
   ]
  },
  {
   "cell_type": "code",
   "execution_count": 72,
   "metadata": {},
   "outputs": [
    {
     "name": "stdout",
     "output_type": "stream",
     "text": [
      "n = 1234\n",
      "split(n) into a new n 123 and last 4\n",
      "digit_sum = digit_sum 4 + last 4\n",
      "n = 123\n",
      "split(n) into a new n 12 and last 3\n",
      "digit_sum = digit_sum 7 + last 3\n",
      "n = 12\n",
      "split(n) into a new n 1 and last 2\n",
      "digit_sum = digit_sum 9 + last 2\n",
      "n = 1\n",
      "split(n) into a new n 0 and last 1\n",
      "digit_sum = digit_sum 10 + last 1\n"
     ]
    },
    {
     "data": {
      "text/plain": [
       "10"
      ]
     },
     "execution_count": 72,
     "metadata": {},
     "output_type": "execute_result"
    }
   ],
   "source": [
    "sum_digits_iter(1234)"
   ]
  },
  {
   "cell_type": "code",
   "execution_count": 73,
   "metadata": {},
   "outputs": [
    {
     "name": "stdout",
     "output_type": "stream",
     "text": [
      "n!=0\n",
      "split(n) into a new n 123 and last 4\n",
      "digit_sum + last = 0 + 4\n",
      "n!=0\n",
      "split(n) into a new n 12 and last 3\n",
      "digit_sum + last = 4 + 3\n",
      "n!=0\n",
      "split(n) into a new n 1 and last 2\n",
      "digit_sum + last = 7 + 2\n",
      "n!=0\n",
      "split(n) into a new n 0 and last 1\n",
      "digit_sum + last = 9 + 1\n",
      "n=0 digit_sum=10\n"
     ]
    },
    {
     "data": {
      "text/plain": [
       "10"
      ]
     },
     "execution_count": 73,
     "metadata": {},
     "output_type": "execute_result"
    }
   ],
   "source": [
    "sum_digits_rec(1234,0)"
   ]
  },
  {
   "cell_type": "code",
   "execution_count": 77,
   "metadata": {},
   "outputs": [
    {
     "name": "stdout",
     "output_type": "stream",
     "text": [
      "m = 5, n = 3\n",
      "m = 5, n = 2\n",
      "n = 1\n"
     ]
    },
    {
     "data": {
      "text/plain": [
       "15"
      ]
     },
     "execution_count": 77,
     "metadata": {},
     "output_type": "execute_result"
    }
   ],
   "source": [
    "# recursion example \n",
    "def multiply(m,n):\n",
    "    assert (m >0 and n>0)\n",
    "    if n == 1:\n",
    "        print(f\"n = {n}\")\n",
    "        return m\n",
    "    else:\n",
    "        print(f\"m = {m}, n = {n}\")\n",
    "        return m +  multiply(m,n-1)\n",
    "\n",
    "multiply(5,3)"
   ]
  },
  {
   "cell_type": "code",
   "execution_count": 79,
   "metadata": {},
   "outputs": [
    {
     "name": "stdout",
     "output_type": "stream",
     "text": [
      "y>0, y=2, x=3\n",
      "y>0, y=1, x=3\n"
     ]
    },
    {
     "data": {
      "text/plain": [
       "9"
      ]
     },
     "execution_count": 79,
     "metadata": {},
     "output_type": "execute_result"
    }
   ],
   "source": [
    "def rec(x,y):\n",
    "    if y>0:\n",
    "        print(f\"y>0, y={y}, x={x}\")\n",
    "        return x*rec(x,y-1)\n",
    "    return 1\n",
    "\n",
    "rec(3,2)"
   ]
  },
  {
   "cell_type": "code",
   "execution_count": 92,
   "metadata": {},
   "outputs": [
    {
     "name": "stdout",
     "output_type": "stream",
     "text": [
      "10\n",
      "5\n",
      "16\n",
      "8\n",
      "4\n",
      "2\n",
      "1\n"
     ]
    }
   ],
   "source": [
    "# recursion version of hailstone\n",
    "def hailstone(n,count=1):\n",
    "    print(int(n))\n",
    "    if n % 2 == 0:\n",
    "        count += 1\n",
    "        n = n/2\n",
    "        \n",
    "    else:\n",
    "        count += 1\n",
    "        n = n*3+1\n",
    "    \n",
    "    if n == 1:\n",
    "        print(int(n))\n",
    "        return count\n",
    "    else:\n",
    "        return hailstone(n,count)\n",
    "    \n",
    "a = hailstone(10)"
   ]
  },
  {
   "cell_type": "code",
   "execution_count": 93,
   "metadata": {},
   "outputs": [
    {
     "data": {
      "text/plain": [
       "7"
      ]
     },
     "execution_count": 93,
     "metadata": {},
     "output_type": "execute_result"
    }
   ],
   "source": [
    "a"
   ]
  },
  {
   "cell_type": "code",
   "execution_count": 97,
   "metadata": {},
   "outputs": [
    {
     "name": "stdout",
     "output_type": "stream",
     "text": [
      "10\n",
      "5\n",
      "16\n",
      "8\n",
      "4\n",
      "2\n",
      "1\n"
     ]
    }
   ],
   "source": [
    "# while version of hailstone\n",
    "def hailstone(n):\n",
    "    assert n>0\n",
    "    count = 1\n",
    "    print(int(n))\n",
    "    while n >1:\n",
    "        count+=1\n",
    "        if n%2 ==0:\n",
    "            n = n/2\n",
    "            print(int(n))\n",
    "        else:\n",
    "            n = n*3+1\n",
    "            print(int(n))\n",
    "    return count\n",
    "a = hailstone(10)\n"
   ]
  },
  {
   "cell_type": "code",
   "execution_count": 99,
   "metadata": {},
   "outputs": [
    {
     "data": {
      "text/plain": [
       "7"
      ]
     },
     "execution_count": 99,
     "metadata": {},
     "output_type": "execute_result"
    }
   ],
   "source": [
    "a"
   ]
  },
  {
   "cell_type": "code",
   "execution_count": null,
   "metadata": {},
   "outputs": [],
   "source": []
  },
  {
   "cell_type": "code",
   "execution_count": 129,
   "metadata": {},
   "outputs": [],
   "source": [
    "# hellp merge function \n",
    "def d(n):\n",
    "    # 43 --> 4,3 \n",
    "    return n//10 , n-(n//10)*10\n",
    "\n",
    "def s(n):\n",
    "    # 45 --> 54\n",
    "    biga,bigb = d(n)\n",
    "    if biga<bigb:\n",
    "        n = bigb*10+biga\n",
    "    return n"
   ]
  },
  {
   "cell_type": "code",
   "execution_count": 128,
   "metadata": {},
   "outputs": [
    {
     "data": {
      "text/plain": [
       "9651"
      ]
     },
     "execution_count": 128,
     "metadata": {},
     "output_type": "execute_result"
    }
   ],
   "source": [
    "# if I don't use a recursion\n",
    "n1,n2 = 65,19\n",
    "\n",
    "if n1>n2:\n",
    "    big = n1\n",
    "    small = n2\n",
    "else:\n",
    "    big = n2\n",
    "    small = n1\n",
    "\n",
    "s_ = s((s(big)%10)*10+s(small)%10)\n",
    "b_ = s((s(big)//10)*10+s(small)//10)\n",
    "\n",
    "big = b_\n",
    "small = s_\n",
    "big*100+small"
   ]
  },
  {
   "cell_type": "code",
   "execution_count": 146,
   "metadata": {},
   "outputs": [
    {
     "data": {
      "text/plain": [
       "3211"
      ]
     },
     "execution_count": 146,
     "metadata": {},
     "output_type": "execute_result"
    }
   ],
   "source": [
    "# recursion version merge function\n",
    "def merge(n1,n2):\n",
    "    # 21，31 --> 3211\n",
    "    a,b,c,d = n1//10, n1%10, n2//10, n2%10\n",
    "    if a >= b >= c >= d:\n",
    "        return int(''.join([str(i) for i in [a,b,c,d] if i!=0])) \n",
    "    else:\n",
    "        n1 = s(n1)\n",
    "        n2 = s(n2)\n",
    "        n1,n2 = (n1//10)*10 + n2//10, (n1%10)*10 + n2%10\n",
    "        return merge(n1,n2)\n",
    "\n",
    "merge(21,31)"
   ]
  },
  {
   "cell_type": "code",
   "execution_count": 195,
   "metadata": {},
   "outputs": [],
   "source": [
    "def ff(n):\n",
    "    return n+1\n",
    "\n",
    "def make_func_repeater(f,x):\n",
    "    def repeat(x):\n",
    "        if x ==1:\n",
    "            return f(x)\n",
    "        else:\n",
    "            x = f(x-1)\n",
    "            return f(x)\n",
    "    return repeat\n",
    "    \n"
   ]
  },
  {
   "cell_type": "code",
   "execution_count": 202,
   "metadata": {},
   "outputs": [
    {
     "data": {
      "text/plain": [
       "3"
      ]
     },
     "execution_count": 202,
     "metadata": {},
     "output_type": "execute_result"
    }
   ],
   "source": [
    "# a = make_func_repeater(ff,1)\n",
    "a = make_func_repeater(ff,1)\n",
    "a(2)"
   ]
  },
  {
   "cell_type": "code",
   "execution_count": null,
   "metadata": {},
   "outputs": [],
   "source": []
  },
  {
   "cell_type": "code",
   "execution_count": null,
   "metadata": {},
   "outputs": [],
   "source": []
  },
  {
   "cell_type": "code",
   "execution_count": null,
   "metadata": {},
   "outputs": [],
   "source": []
  },
  {
   "cell_type": "code",
   "execution_count": null,
   "metadata": {},
   "outputs": [],
   "source": []
  }
 ],
 "metadata": {
  "interpreter": {
   "hash": "483ff14553254d47bb5ca00f7784335c916df64575b78231826ea105d8b3c56b"
  },
  "kernelspec": {
   "display_name": "Python 3.8.5 ('ccss')",
   "language": "python",
   "name": "python3"
  },
  "language_info": {
   "codemirror_mode": {
    "name": "ipython",
    "version": 3
   },
   "file_extension": ".py",
   "mimetype": "text/x-python",
   "name": "python",
   "nbconvert_exporter": "python",
   "pygments_lexer": "ipython3",
   "version": "3.8.5"
  },
  "orig_nbformat": 4
 },
 "nbformat": 4,
 "nbformat_minor": 2
}
